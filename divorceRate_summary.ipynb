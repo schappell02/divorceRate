{
 "cells": [
  {
   "cell_type": "code",
   "execution_count": 1,
   "metadata": {},
   "outputs": [],
   "source": [
    "import pandas as pd\n",
    "import numpy as np\n",
    "import re\n",
    "import pylab as plt\n",
    "import copy\n",
    "import math"
   ]
  },
  {
   "cell_type": "markdown",
   "metadata": {},
   "source": [
    "ReadStataDct code from Think Stats, as exercise in chapter 13, examined survival curve of divorce in marriage from a different cycle of NSFG survey"
   ]
  },
  {
   "cell_type": "code",
   "execution_count": 2,
   "metadata": {},
   "outputs": [],
   "source": [
    "def ReadStataDct(dct_file,filename):\n",
    "    \"\"\"Reads a Stata dictionary file.\n",
    "\n",
    "    dct_file: string filename\n",
    "    options: dict of options passed to open()\n",
    "\n",
    "    returns: FixedWidthVariables object\n",
    "    \n",
    "    FROM Think Stats (A. Downey)\n",
    "    \"\"\"\n",
    "    type_map = dict(byte=int, int=int, long=int, float=float, double=float)\n",
    "\n",
    "    var_info = []\n",
    "    for line in open(dct_file):\n",
    "        match = re.search( r'_column\\(([^)]*)\\)', line)\n",
    "        if match:\n",
    "            start = int(match.group(1))\n",
    "            t = line.split()\n",
    "            vtype, name, fstring = t[1:4]\n",
    "            name = name.lower()\n",
    "            if vtype.startswith('str'):\n",
    "                vtype = str\n",
    "            else:\n",
    "                vtype = type_map[vtype]\n",
    "            long_desc = ' '.join(t[4:]).strip('\"')\n",
    "            var_info.append((start, vtype, name, fstring, long_desc))\n",
    "            \n",
    "    columns = ['start', 'type', 'name', 'fstring', 'desc']\n",
    "    variables = pd.DataFrame(var_info, columns=columns)\n",
    "\n",
    "    # fill in the end column by shifting the start column\n",
    "    variables['end'] = variables.start.shift(-1)\n",
    "    variables.loc[len(variables)-1, 'end'] = 0\n",
    "\n",
    "    #dct = FixedWidthVariables(variables, index_base=1)\n",
    "    colspecs = variables[['start', 'end']] - 1\n",
    "    colspecs = colspecs.astype(np.int).values.tolist()\n",
    "    names = variables['name']\n",
    "    df = pd.read_fwf(filename,colspecs=colspecs,names=names)\n",
    "    return df"
   ]
  },
  {
   "cell_type": "markdown",
   "metadata": {},
   "source": [
    "Using 2006-2010 as it has the largest number of responses"
   ]
  },
  {
   "cell_type": "code",
   "execution_count": 3,
   "metadata": {},
   "outputs": [],
   "source": [
    "df=ReadStataDct('2006_2010_FemRespSetup.dct','2006_2010_FemResp.dat')"
   ]
  },
  {
   "cell_type": "code",
   "execution_count": 4,
   "metadata": {},
   "outputs": [
    {
     "data": {
      "text/html": [
       "<div>\n",
       "<style scoped>\n",
       "    .dataframe tbody tr th:only-of-type {\n",
       "        vertical-align: middle;\n",
       "    }\n",
       "\n",
       "    .dataframe tbody tr th {\n",
       "        vertical-align: top;\n",
       "    }\n",
       "\n",
       "    .dataframe thead th {\n",
       "        text-align: right;\n",
       "    }\n",
       "</style>\n",
       "<table border=\"1\" class=\"dataframe\">\n",
       "  <thead>\n",
       "    <tr style=\"text-align: right;\">\n",
       "      <th></th>\n",
       "      <th>caseid</th>\n",
       "      <th>rscrninf</th>\n",
       "      <th>rscrage</th>\n",
       "      <th>rscrhisp</th>\n",
       "      <th>rscrrace</th>\n",
       "      <th>age_a</th>\n",
       "      <th>age_r</th>\n",
       "      <th>cmbirth</th>\n",
       "      <th>agescrn</th>\n",
       "      <th>marstat</th>\n",
       "      <th>...</th>\n",
       "      <th>secu</th>\n",
       "      <th>sest</th>\n",
       "      <th>cmintvw</th>\n",
       "      <th>cmlstyr</th>\n",
       "      <th>cmjan3yr</th>\n",
       "      <th>cmjan5yr</th>\n",
       "      <th>questyear</th>\n",
       "      <th>quarter</th>\n",
       "      <th>phase</th>\n",
       "      <th>intvlngth</th>\n",
       "    </tr>\n",
       "  </thead>\n",
       "  <tbody>\n",
       "    <tr>\n",
       "      <th>count</th>\n",
       "      <td>12279.000000</td>\n",
       "      <td>12279.000000</td>\n",
       "      <td>12279.000000</td>\n",
       "      <td>12279.000000</td>\n",
       "      <td>12279.000000</td>\n",
       "      <td>12279.000000</td>\n",
       "      <td>12279.000000</td>\n",
       "      <td>12279.000000</td>\n",
       "      <td>12279.000000</td>\n",
       "      <td>12279.000000</td>\n",
       "      <td>...</td>\n",
       "      <td>12279.000000</td>\n",
       "      <td>12279.000000</td>\n",
       "      <td>12279.000000</td>\n",
       "      <td>12279.000000</td>\n",
       "      <td>12279.000000</td>\n",
       "      <td>12279.000000</td>\n",
       "      <td>12279.000000</td>\n",
       "      <td>12279.000000</td>\n",
       "      <td>12279.000000</td>\n",
       "      <td>12279.000000</td>\n",
       "    </tr>\n",
       "    <tr>\n",
       "      <th>mean</th>\n",
       "      <td>33128.309309</td>\n",
       "      <td>2.798844</td>\n",
       "      <td>28.583598</td>\n",
       "      <td>4.155632</td>\n",
       "      <td>4.703722</td>\n",
       "      <td>28.635068</td>\n",
       "      <td>28.635068</td>\n",
       "      <td>953.114179</td>\n",
       "      <td>28.599479</td>\n",
       "      <td>3.736705</td>\n",
       "      <td>...</td>\n",
       "      <td>2.003991</td>\n",
       "      <td>135.988924</td>\n",
       "      <td>1302.753644</td>\n",
       "      <td>1290.753644</td>\n",
       "      <td>1261.509162</td>\n",
       "      <td>1237.509162</td>\n",
       "      <td>2.535386</td>\n",
       "      <td>8.668377</td>\n",
       "      <td>1.084046</td>\n",
       "      <td>81.455548</td>\n",
       "    </tr>\n",
       "    <tr>\n",
       "      <th>std</th>\n",
       "      <td>4679.506229</td>\n",
       "      <td>1.989939</td>\n",
       "      <td>8.410234</td>\n",
       "      <td>1.632401</td>\n",
       "      <td>1.039618</td>\n",
       "      <td>8.445265</td>\n",
       "      <td>8.445265</td>\n",
       "      <td>102.338992</td>\n",
       "      <td>8.444188</td>\n",
       "      <td>2.275133</td>\n",
       "      <td>...</td>\n",
       "      <td>1.031860</td>\n",
       "      <td>14.482793</td>\n",
       "      <td>14.213140</td>\n",
       "      <td>14.213140</td>\n",
       "      <td>15.062623</td>\n",
       "      <td>15.062623</td>\n",
       "      <td>1.128579</td>\n",
       "      <td>4.706620</td>\n",
       "      <td>0.277468</td>\n",
       "      <td>100.251288</td>\n",
       "    </tr>\n",
       "    <tr>\n",
       "      <th>min</th>\n",
       "      <td>26141.000000</td>\n",
       "      <td>1.000000</td>\n",
       "      <td>15.000000</td>\n",
       "      <td>1.000000</td>\n",
       "      <td>1.000000</td>\n",
       "      <td>15.000000</td>\n",
       "      <td>15.000000</td>\n",
       "      <td>740.000000</td>\n",
       "      <td>15.000000</td>\n",
       "      <td>1.000000</td>\n",
       "      <td>...</td>\n",
       "      <td>1.000000</td>\n",
       "      <td>101.000000</td>\n",
       "      <td>1278.000000</td>\n",
       "      <td>1266.000000</td>\n",
       "      <td>1237.000000</td>\n",
       "      <td>1213.000000</td>\n",
       "      <td>1.000000</td>\n",
       "      <td>1.000000</td>\n",
       "      <td>1.000000</td>\n",
       "      <td>15.600000</td>\n",
       "    </tr>\n",
       "    <tr>\n",
       "      <th>25%</th>\n",
       "      <td>29210.500000</td>\n",
       "      <td>1.000000</td>\n",
       "      <td>21.000000</td>\n",
       "      <td>5.000000</td>\n",
       "      <td>4.000000</td>\n",
       "      <td>21.000000</td>\n",
       "      <td>21.000000</td>\n",
       "      <td>869.000000</td>\n",
       "      <td>21.000000</td>\n",
       "      <td>1.000000</td>\n",
       "      <td>...</td>\n",
       "      <td>1.000000</td>\n",
       "      <td>126.000000</td>\n",
       "      <td>1290.000000</td>\n",
       "      <td>1278.000000</td>\n",
       "      <td>1249.000000</td>\n",
       "      <td>1225.000000</td>\n",
       "      <td>1.000000</td>\n",
       "      <td>4.000000</td>\n",
       "      <td>1.000000</td>\n",
       "      <td>52.940000</td>\n",
       "    </tr>\n",
       "    <tr>\n",
       "      <th>50%</th>\n",
       "      <td>32280.000000</td>\n",
       "      <td>1.000000</td>\n",
       "      <td>28.000000</td>\n",
       "      <td>5.000000</td>\n",
       "      <td>5.000000</td>\n",
       "      <td>28.000000</td>\n",
       "      <td>28.000000</td>\n",
       "      <td>959.000000</td>\n",
       "      <td>28.000000</td>\n",
       "      <td>4.000000</td>\n",
       "      <td>...</td>\n",
       "      <td>2.000000</td>\n",
       "      <td>140.000000</td>\n",
       "      <td>1303.000000</td>\n",
       "      <td>1291.000000</td>\n",
       "      <td>1261.000000</td>\n",
       "      <td>1237.000000</td>\n",
       "      <td>3.000000</td>\n",
       "      <td>9.000000</td>\n",
       "      <td>1.000000</td>\n",
       "      <td>68.350000</td>\n",
       "    </tr>\n",
       "    <tr>\n",
       "      <th>75%</th>\n",
       "      <td>36917.500000</td>\n",
       "      <td>5.000000</td>\n",
       "      <td>36.000000</td>\n",
       "      <td>5.000000</td>\n",
       "      <td>5.000000</td>\n",
       "      <td>36.000000</td>\n",
       "      <td>36.000000</td>\n",
       "      <td>1040.000000</td>\n",
       "      <td>36.000000</td>\n",
       "      <td>6.000000</td>\n",
       "      <td>...</td>\n",
       "      <td>3.000000</td>\n",
       "      <td>148.000000</td>\n",
       "      <td>1315.000000</td>\n",
       "      <td>1303.000000</td>\n",
       "      <td>1273.000000</td>\n",
       "      <td>1249.000000</td>\n",
       "      <td>4.000000</td>\n",
       "      <td>13.000000</td>\n",
       "      <td>1.000000</td>\n",
       "      <td>86.480000</td>\n",
       "    </tr>\n",
       "    <tr>\n",
       "      <th>max</th>\n",
       "      <td>42681.000000</td>\n",
       "      <td>5.000000</td>\n",
       "      <td>44.000000</td>\n",
       "      <td>5.000000</td>\n",
       "      <td>6.000000</td>\n",
       "      <td>45.000000</td>\n",
       "      <td>45.000000</td>\n",
       "      <td>1143.000000</td>\n",
       "      <td>44.000000</td>\n",
       "      <td>6.000000</td>\n",
       "      <td>...</td>\n",
       "      <td>4.000000</td>\n",
       "      <td>156.000000</td>\n",
       "      <td>1326.000000</td>\n",
       "      <td>1314.000000</td>\n",
       "      <td>1285.000000</td>\n",
       "      <td>1261.000000</td>\n",
       "      <td>4.000000</td>\n",
       "      <td>16.000000</td>\n",
       "      <td>2.000000</td>\n",
       "      <td>997.000000</td>\n",
       "    </tr>\n",
       "  </tbody>\n",
       "</table>\n",
       "<p>8 rows × 3741 columns</p>\n",
       "</div>"
      ],
      "text/plain": [
       "             caseid      rscrninf       rscrage      rscrhisp      rscrrace  \\\n",
       "count  12279.000000  12279.000000  12279.000000  12279.000000  12279.000000   \n",
       "mean   33128.309309      2.798844     28.583598      4.155632      4.703722   \n",
       "std     4679.506229      1.989939      8.410234      1.632401      1.039618   \n",
       "min    26141.000000      1.000000     15.000000      1.000000      1.000000   \n",
       "25%    29210.500000      1.000000     21.000000      5.000000      4.000000   \n",
       "50%    32280.000000      1.000000     28.000000      5.000000      5.000000   \n",
       "75%    36917.500000      5.000000     36.000000      5.000000      5.000000   \n",
       "max    42681.000000      5.000000     44.000000      5.000000      6.000000   \n",
       "\n",
       "              age_a         age_r       cmbirth       agescrn       marstat  \\\n",
       "count  12279.000000  12279.000000  12279.000000  12279.000000  12279.000000   \n",
       "mean      28.635068     28.635068    953.114179     28.599479      3.736705   \n",
       "std        8.445265      8.445265    102.338992      8.444188      2.275133   \n",
       "min       15.000000     15.000000    740.000000     15.000000      1.000000   \n",
       "25%       21.000000     21.000000    869.000000     21.000000      1.000000   \n",
       "50%       28.000000     28.000000    959.000000     28.000000      4.000000   \n",
       "75%       36.000000     36.000000   1040.000000     36.000000      6.000000   \n",
       "max       45.000000     45.000000   1143.000000     44.000000      6.000000   \n",
       "\n",
       "           ...               secu          sest       cmintvw       cmlstyr  \\\n",
       "count      ...       12279.000000  12279.000000  12279.000000  12279.000000   \n",
       "mean       ...           2.003991    135.988924   1302.753644   1290.753644   \n",
       "std        ...           1.031860     14.482793     14.213140     14.213140   \n",
       "min        ...           1.000000    101.000000   1278.000000   1266.000000   \n",
       "25%        ...           1.000000    126.000000   1290.000000   1278.000000   \n",
       "50%        ...           2.000000    140.000000   1303.000000   1291.000000   \n",
       "75%        ...           3.000000    148.000000   1315.000000   1303.000000   \n",
       "max        ...           4.000000    156.000000   1326.000000   1314.000000   \n",
       "\n",
       "           cmjan3yr      cmjan5yr     questyear       quarter         phase  \\\n",
       "count  12279.000000  12279.000000  12279.000000  12279.000000  12279.000000   \n",
       "mean    1261.509162   1237.509162      2.535386      8.668377      1.084046   \n",
       "std       15.062623     15.062623      1.128579      4.706620      0.277468   \n",
       "min     1237.000000   1213.000000      1.000000      1.000000      1.000000   \n",
       "25%     1249.000000   1225.000000      1.000000      4.000000      1.000000   \n",
       "50%     1261.000000   1237.000000      3.000000      9.000000      1.000000   \n",
       "75%     1273.000000   1249.000000      4.000000     13.000000      1.000000   \n",
       "max     1285.000000   1261.000000      4.000000     16.000000      2.000000   \n",
       "\n",
       "          intvlngth  \n",
       "count  12279.000000  \n",
       "mean      81.455548  \n",
       "std      100.251288  \n",
       "min       15.600000  \n",
       "25%       52.940000  \n",
       "50%       68.350000  \n",
       "75%       86.480000  \n",
       "max      997.000000  \n",
       "\n",
       "[8 rows x 3741 columns]"
      ]
     },
     "execution_count": 4,
     "metadata": {},
     "output_type": "execute_result"
    }
   ],
   "source": [
    "df.describe()"
   ]
  },
  {
   "cell_type": "markdown",
   "metadata": {},
   "source": [
    "Many columns, description for all in codebook https://www.icpsr.umich.edu/webdocs/Controller?displayPage=femaleResp"
   ]
  },
  {
   "cell_type": "code",
   "execution_count": 5,
   "metadata": {},
   "outputs": [
    {
     "data": {
      "text/plain": [
       "Index([u'caseid', u'rscrninf', u'rscrage', u'rscrhisp', u'rscrrace', u'age_a',\n",
       "       u'age_r', u'cmbirth', u'agescrn', u'marstat',\n",
       "       ...\n",
       "       u'secu', u'sest', u'cmintvw', u'cmlstyr', u'cmjan3yr', u'cmjan5yr',\n",
       "       u'questyear', u'quarter', u'phase', u'intvlngth'],\n",
       "      dtype='object', length=3741)"
      ]
     },
     "execution_count": 5,
     "metadata": {},
     "output_type": "execute_result"
    }
   ],
   "source": [
    "df.columns"
   ]
  },
  {
   "cell_type": "markdown",
   "metadata": {},
   "source": [
    "To get started, can get the number of marriages that are known to have ended in divorce (or annulment) divided by all marriages. This will only serve as a lower limit as marriages that were on going at the time of participation in the study may later have ended in divorce. (Note, as certain demographics were oversampled in this study, weights are used.)"
   ]
  },
  {
   "cell_type": "code",
   "execution_count": 25,
   "metadata": {},
   "outputs": [],
   "source": [
    "def drll(df):\n",
    "    totM = 0\n",
    "    totD = 0\n",
    "    lenM = 0\n",
    "    lenD = 0\n",
    "    for i in range(6):\n",
    "        if i == 0:\n",
    "            tmpD = df[(df['marendhx'] == 2) | (df['marendhx'] == 3)].wgtq1q16\n",
    "            tmpM = df[df['whmarhx_y']>0].wgtq1q16\n",
    "        else:\n",
    "            tmpD = df[(df['marendhx'+str(i+1)] == 2) | (df['marendhx'+str(i+1)] == 3)].wgtq1q16\n",
    "            tmpM = df[df['whmarhx_y'+str(i+1)]>0].wgtq1q16\n",
    "        \n",
    "        numD = float(len(tmpD))\n",
    "        numM = float(len(tmpM))\n",
    "        print ('Frac of marriage '+str(i+1)+' that end in divorce: '+str(tmpD.sum()/tmpM.sum())+' +/- '+str(math.sqrt(numD/numM**2+numD**2/numM**3)))\n",
    "        totM += tmpM.sum()\n",
    "        totD += tmpD.sum()\n",
    "        lenM += float(len(tmpM))\n",
    "        lenD += float(len(tmpD))\n",
    "    print ('')\n",
    "    print ('Total frac of marriages that are known to end in divorce: '+str(totD/totM)+' +/- '+str(math.sqrt(lenD/lenM**2+lenD**2/lenM**3)))"
   ]
  },
  {
   "cell_type": "markdown",
   "metadata": {},
   "source": [
    "Errors are assuming Poisson noise"
   ]
  },
  {
   "cell_type": "code",
   "execution_count": 26,
   "metadata": {},
   "outputs": [
    {
     "name": "stdout",
     "output_type": "stream",
     "text": [
      "Frac of marriage 1 that end in divorce: 0.254362599969 +/- 0.00811999792132\n",
      "Frac of marriage 2 that end in divorce: 0.319994141533 +/- 0.0238387398622\n",
      "Frac of marriage 3 that end in divorce: 0.282297754714 +/- 0.061230129067\n",
      "Frac of marriage 4 that end in divorce: 0.697062932856 +/- 0.202398004455\n",
      "Frac of marriage 5 that end in divorce: 0.855052286992 +/- 0.334664010614\n",
      "Frac of marriage 6 that end in divorce: 0.0 +/- 0.0\n",
      "\n",
      "Total frac of marriages that are known to end in divorce: 0.263809324009 +/- 0.00762651439067\n"
     ]
    }
   ],
   "source": [
    "drll(df)"
   ]
  },
  {
   "cell_type": "markdown",
   "metadata": {},
   "source": [
    "Lower limit, at least of 26% +/- 0.7% marriages end in divorce.\n",
    "\n",
    "Divorce fraction tends to increase with number of previous marriages, and, due to smaller numbers of marriages, has larger errors.\n",
    "\n",
    "As mentioned, this is a lower limit. Can get more information by examining lengths of marriages, both those that are known to have ended in divorce and those that are still on going (at the time of being interviewed)."
   ]
  },
  {
   "cell_type": "code",
   "execution_count": 32,
   "metadata": {},
   "outputs": [
    {
     "name": "stderr",
     "output_type": "stream",
     "text": [
      "/anaconda3/envs/condasc/lib/python2.7/site-packages/ipykernel_launcher.py:8: SettingWithCopyWarning: \n",
      "A value is trying to be set on a copy of a slice from a DataFrame\n",
      "\n",
      "See the caveats in the documentation: http://pandas.pydata.org/pandas-docs/stable/indexing.html#indexing-view-versus-copy\n",
      "  \n"
     ]
    }
   ],
   "source": [
    "def addMYdate_len(df):\n",
    "    df['intvMY'] = (df.cmintvw - 1278.0)/12.0 + 2006.5\n",
    "    df['cmarMY'] = (df.cmmarrch - 1278.0)/12.0 + 2006.5\n",
    "    \n",
    "    # for on going marriages, get length of marriage, so far, at time of interview\n",
    "    df['sofarLen'] = df.intvMY - df.cmarMY\n",
    "    tmpLen = df.sofarLen\n",
    "    tmpLen[tmpLen < 0] = 0\n",
    "    \n",
    "    for i in range(6):\n",
    "        if i > 0:\n",
    "            col_name = ['whmarhx_y'+str(i+1),'whmarhx_m'+str(i+1),'divdathx_y'+str(i+1),'divdathx_m'+str(i+1)]\n",
    "        else:\n",
    "            col_name = ['whmarhx_y','whmarhx_m','divdathx_y','divdathx_m']\n",
    "        tmp_month = copy.deepcopy(df[col_name[1]])\n",
    "        \n",
    "        # some months are encoded as > 12. 13, 14, 15, and 16 mean winter, fall, spring, and summer\n",
    "        # I take the middle month then as the month (will introduce some error)\n",
    "        # 98 and 99 means refused to answer or did not know, I take middle of year as guess\n",
    "        # once again this will introduce some error for those few affected\n",
    "        tmp_month[tmp_month == 13] = 1.0\n",
    "        tmp_month[tmp_month == 14] = 4.0\n",
    "        tmp_month[tmp_month == 15] = 7.0\n",
    "        tmp_month[tmp_month == 16] = 10.0\n",
    "        tmp_month[(tmp_month == 98) | (tmp_month == 99)] = 6.0\n",
    "        df['marMY'+str(i+1)] = df[col_name[0]] + tmp_month/12.0\n",
    "        \n",
    "        tmp_month = copy.deepcopy(df[col_name[3]])\n",
    "        tmp_month[tmp_month == 13] = 1.0\n",
    "        tmp_month[tmp_month == 14] = 4.0\n",
    "        tmp_month[tmp_month == 15] = 7.0\n",
    "        tmp_month[tmp_month == 16] = 10.0\n",
    "        tmp_month[(tmp_month == 98) | (tmp_month == 99)] = 6.0\n",
    "        df['divMY'+str(i+1)] = df[col_name[2]] + tmp_month/12.0\n",
    "        \n",
    "        # due to some of my guessing on month, the resulting marriage length\n",
    "        # calculated will be < 0 if people got married and divorced (or annuled)\n",
    "        # within the same year (or got the year wrong)\n",
    "        # and when people do not know the year or refuse to answer, it gets coded\n",
    "        # as 98 and 99, resutling in large, positive, or negative marriage lengths\n",
    "        # for the few affected, I force marriage length to be 0 (ie married and divorced the same year)\n",
    "        tmp_marLen = df['divMY'+str(i+1)] - df['marMY'+str(i+1)]\n",
    "        tmp_marLen[(tmp_marLen < 0) | (tmp_marLen > 1e2)] = 0\n",
    "        df['marLen'+str(i+1)] = tmp_marLen\n",
    "\n",
    "addMYdate_len(df)"
   ]
  },
  {
   "cell_type": "code",
   "execution_count": 33,
   "metadata": {},
   "outputs": [
    {
     "data": {
      "text/html": [
       "<div>\n",
       "<style scoped>\n",
       "    .dataframe tbody tr th:only-of-type {\n",
       "        vertical-align: middle;\n",
       "    }\n",
       "\n",
       "    .dataframe tbody tr th {\n",
       "        vertical-align: top;\n",
       "    }\n",
       "\n",
       "    .dataframe thead th {\n",
       "        text-align: right;\n",
       "    }\n",
       "</style>\n",
       "<table border=\"1\" class=\"dataframe\">\n",
       "  <thead>\n",
       "    <tr style=\"text-align: right;\">\n",
       "      <th></th>\n",
       "      <th>sofarLen</th>\n",
       "      <th>marLen1</th>\n",
       "      <th>marLen2</th>\n",
       "      <th>marLen3</th>\n",
       "      <th>marLen4</th>\n",
       "      <th>marLen5</th>\n",
       "      <th>marLen6</th>\n",
       "    </tr>\n",
       "  </thead>\n",
       "  <tbody>\n",
       "    <tr>\n",
       "      <th>count</th>\n",
       "      <td>5537.000000</td>\n",
       "      <td>1574.000000</td>\n",
       "      <td>240.000000</td>\n",
       "      <td>38.000000</td>\n",
       "      <td>5.000000</td>\n",
       "      <td>2.000000</td>\n",
       "      <td>0.0</td>\n",
       "    </tr>\n",
       "    <tr>\n",
       "      <th>mean</th>\n",
       "      <td>9.214406</td>\n",
       "      <td>6.231364</td>\n",
       "      <td>4.901042</td>\n",
       "      <td>3.517544</td>\n",
       "      <td>4.666667</td>\n",
       "      <td>0.125000</td>\n",
       "      <td>NaN</td>\n",
       "    </tr>\n",
       "    <tr>\n",
       "      <th>std</th>\n",
       "      <td>6.257933</td>\n",
       "      <td>4.565395</td>\n",
       "      <td>4.108876</td>\n",
       "      <td>2.605950</td>\n",
       "      <td>4.396969</td>\n",
       "      <td>0.176777</td>\n",
       "      <td>NaN</td>\n",
       "    </tr>\n",
       "    <tr>\n",
       "      <th>min</th>\n",
       "      <td>0.000000</td>\n",
       "      <td>0.000000</td>\n",
       "      <td>0.000000</td>\n",
       "      <td>0.000000</td>\n",
       "      <td>0.000000</td>\n",
       "      <td>0.000000</td>\n",
       "      <td>NaN</td>\n",
       "    </tr>\n",
       "    <tr>\n",
       "      <th>25%</th>\n",
       "      <td>3.916667</td>\n",
       "      <td>2.833333</td>\n",
       "      <td>1.750000</td>\n",
       "      <td>1.479167</td>\n",
       "      <td>1.666667</td>\n",
       "      <td>0.062500</td>\n",
       "      <td>NaN</td>\n",
       "    </tr>\n",
       "    <tr>\n",
       "      <th>50%</th>\n",
       "      <td>8.250000</td>\n",
       "      <td>5.250000</td>\n",
       "      <td>4.208333</td>\n",
       "      <td>3.166667</td>\n",
       "      <td>3.000000</td>\n",
       "      <td>0.125000</td>\n",
       "      <td>NaN</td>\n",
       "    </tr>\n",
       "    <tr>\n",
       "      <th>75%</th>\n",
       "      <td>13.500000</td>\n",
       "      <td>8.583333</td>\n",
       "      <td>6.625000</td>\n",
       "      <td>4.708333</td>\n",
       "      <td>9.000000</td>\n",
       "      <td>0.187500</td>\n",
       "      <td>NaN</td>\n",
       "    </tr>\n",
       "    <tr>\n",
       "      <th>max</th>\n",
       "      <td>29.250000</td>\n",
       "      <td>27.000000</td>\n",
       "      <td>21.250000</td>\n",
       "      <td>10.333333</td>\n",
       "      <td>9.666667</td>\n",
       "      <td>0.250000</td>\n",
       "      <td>NaN</td>\n",
       "    </tr>\n",
       "  </tbody>\n",
       "</table>\n",
       "</div>"
      ],
      "text/plain": [
       "          sofarLen      marLen1     marLen2    marLen3   marLen4   marLen5  \\\n",
       "count  5537.000000  1574.000000  240.000000  38.000000  5.000000  2.000000   \n",
       "mean      9.214406     6.231364    4.901042   3.517544  4.666667  0.125000   \n",
       "std       6.257933     4.565395    4.108876   2.605950  4.396969  0.176777   \n",
       "min       0.000000     0.000000    0.000000   0.000000  0.000000  0.000000   \n",
       "25%       3.916667     2.833333    1.750000   1.479167  1.666667  0.062500   \n",
       "50%       8.250000     5.250000    4.208333   3.166667  3.000000  0.125000   \n",
       "75%      13.500000     8.583333    6.625000   4.708333  9.000000  0.187500   \n",
       "max      29.250000    27.000000   21.250000  10.333333  9.666667  0.250000   \n",
       "\n",
       "       marLen6  \n",
       "count      0.0  \n",
       "mean       NaN  \n",
       "std        NaN  \n",
       "min        NaN  \n",
       "25%        NaN  \n",
       "50%        NaN  \n",
       "75%        NaN  \n",
       "max        NaN  "
      ]
     },
     "execution_count": 33,
     "metadata": {},
     "output_type": "execute_result"
    }
   ],
   "source": [
    "df[['sofarLen','marLen1','marLen2','marLen3','marLen4','marLen5','marLen6']].describe()"
   ]
  },
  {
   "cell_type": "markdown",
   "metadata": {},
   "source": [
    "Once again, general trend of marriage length before divorce decreasing with increased marriage #. And while many marriages that are known to end in divorce are over within 9 years (~mean length of on going marriages), first and second marriages that are known to end in divorce have similar max lenghts to current, on going marriages."
   ]
  },
  {
   "cell_type": "code",
   "execution_count": 40,
   "metadata": {},
   "outputs": [
    {
     "data": {
      "text/plain": [
       "<matplotlib.legend.Legend at 0x10f293bd0>"
      ]
     },
     "execution_count": 40,
     "metadata": {},
     "output_type": "execute_result"
    },
    {
     "data": {
      "image/png": "[encoded data removed]",
      "text/plain": [
       "<matplotlib.figure.Figure at 0x1126bb090>"
      ]
     },
     "metadata": {
      "needs_background": "light"
     },
     "output_type": "display_data"
    }
   ],
   "source": [
    "bins = range(int(np.nanmax(df.marLen1.dropna())+2))\n",
    "for i in range(3):\n",
    "    plt.hist(df['marLen'+str(i+1)].dropna(),weights=df[df['marLen'+str(i+1)]>=0].wgtq1q16,normed=1,bins=bins,\n",
    "             label='Marriage '+str(i+1),histtype='step')\n",
    "plt.xlabel('Length of marrige before divorce (yrs)')\n",
    "plt.ylabel('Frequency')\n",
    "plt.legend()"
   ]
  },
  {
   "cell_type": "code",
   "execution_count": 44,
   "metadata": {},
   "outputs": [],
   "source": [
    "# from now on, treat all divorces the same\n",
    "# let's get length of marriages, that end in divorce and are on going, into two arrays\n",
    "def divMarArray(df):\n",
    "    all_mlen = np.array(df.marLen1.dropna())\n",
    "    all_mwei = np.array(df[df.marLen1>=0].wgtq1q16)\n",
    "    for i in range(5):\n",
    "        tmp_array = np.array(df['marLen'+str(i+2)].dropna())\n",
    "        all_mlen = np.append(all_mlen,tmp_array)\n",
    "        tmp_array = np.array(df[df['marLen'+str(i+2)]>=0].wgtq1q16)\n",
    "        all_mwei = np.append(all_mwei,tmp_array)\n",
    "    \n",
    "    sf_len = np.array(df.sofarLen.dropna())\n",
    "    sf_wei = np.array(df[df.sofarLen>=0].wgtq1q16)\n",
    "    return all_mlen, all_mwei, sf_len, sf_wei\n",
    "mlen, mwei, sflen, sfwei = divMarArray(df)"
   ]
  },
  {
   "cell_type": "code",
   "execution_count": 45,
   "metadata": {},
   "outputs": [
    {
     "data": {
      "text/plain": [
       "<matplotlib.text.Text at 0x10f04bbd0>"
      ]
     },
     "execution_count": 45,
     "metadata": {},
     "output_type": "execute_result"
    },
    {
     "data": {
      "image/png": "[encoded data removed]",
      "text/plain": [
       "<matplotlib.figure.Figure at 0x1126041d0>"
      ]
     },
     "metadata": {
      "needs_background": "light"
     },
     "output_type": "display_data"
    }
   ],
   "source": [
    "bins = range(int(np.nanmax(mlen)+2))\n",
    "histD,bins,junk = plt.hist(mlen,bins=bins,histtype='step',label='Divorce',normed=1,weights=mwei)\n",
    "histM,bins,junk = plt.hist(sflen,bins=bins,histtype='step',label='Still Marr',normed=1,weights=sfwei)\n",
    "plt.legend()\n",
    "plt.xlabel('Years')\n",
    "plt.ylabel('Frequency')"
   ]
  },
  {
   "cell_type": "code",
   "execution_count": 49,
   "metadata": {},
   "outputs": [
    {
     "name": "stdout",
     "output_type": "stream",
     "text": [
      "Percent divorced within 5 years: 0.488210917545\n",
      "Percent divorced within 7 years: 0.644436966054\n"
     ]
    }
   ],
   "source": [
    "print('Percent divorced within 5 years: '+str(np.sum(mwei[mlen<5.0])/np.sum(mwei)))\n",
    "print('Percent divorced within 7 years: '+str(np.sum(mwei[mlen<7.0])/np.sum(mwei)))"
   ]
  },
  {
   "cell_type": "markdown",
   "metadata": {},
   "source": [
    "The supposed '5 [or 7] year itch', while almost half of all known divorces happen within 5 years, the peak divorce time is between 1 and 2 years of marriage."
   ]
  },
  {
   "cell_type": "markdown",
   "metadata": {},
   "source": [
    "In order to calculate the divorce rate (# marriages to end in divorce / # all marriages), we have to consider how to handle current, on going marriages. To estimate the number that will end in divorce, at every marriage length year I do the following:\n",
    "\n",
    "    1) calculate the yearly divorce rate, D(t) = d(t) / (n(t) - u(t))\n",
    "        - d(t) = # divorced in that year\n",
    "        - n(t) = total # of marriages endering that year (whether on going or end in divorce)\n",
    "        - u(t) = # on going marriages with lenghts equal to t (they could possibly end in divorce at >= t)\n",
    "    2) set D(t) * u(t) to 'end' in divorce that year, while (1 - D(t)) * u(t) will 'stay married'\n",
    "        - m(t) = estimated 'still married' from u(t) is added to u(t+1) and n(t+1)\n",
    "    3) calculate errors (assume Poisson noise)\n",
    "    \n",
    "    D(t) is self-consistent with the addition of m(t) to u(t+1) and n(t+1):\n",
    "    D(t) = [d(t) + u(t) * D(t)] / n(t) = d(t) / (n(t) - u(t))"
   ]
  },
  {
   "cell_type": "code",
   "execution_count": 128,
   "metadata": {},
   "outputs": [],
   "source": [
    "def estDiv(d_arr,d_wei,sm_arr,sm_wei,dyr=1.0):\n",
    "    years = np.array(range(int(np.max(d_arr)/dyr + 1.0)))*dyr\n",
    "    est_d = np.zeros(len(years)-1)\n",
    "    est_m = np.zeros(len(years)-1)\n",
    "    esd_len = np.zeros(len(years)-1)\n",
    "    esm_len = np.zeros(len(years)-1)\n",
    "    rate_d = np.zeros(len(years)-1)\n",
    "    div_w = np.zeros(len(years)-1)\n",
    "    known_d = np.zeros(len(years)-1)\n",
    "    d_error = np.zeros(len(years)-1)\n",
    "    \n",
    "    \n",
    "    for i in range(len(years)-1):\n",
    "        dm_tot = float(len(np.where(d_arr >= years[i])[0]) + len(np.where(sm_arr >= years[i])[0]))\n",
    "        tot_w = np.sum(d_wei[d_arr >= years[i]]) + np.sum(sm_wei[sm_arr >= years[i]])\n",
    "        \n",
    "        known_d[i] = float(len(np.where((d_arr >= years[i]) & (d_arr < years[i+1]))[0]))\n",
    "        div_w[i] = np.sum(d_wei[(d_arr >= years[i]) & (d_arr < years[i+1])])\n",
    "        \n",
    "        dm_ukn = float(len(np.where((sm_arr >= years[i]) & (sm_arr < years[i+1]))[0]))\n",
    "        ukn_w = np.sum(sm_wei[(sm_arr >= years[i]) & (sm_arr < years[i+1])])\n",
    "        if i > 0:\n",
    "            dm_ukn += esm_len[i-1]\n",
    "            dm_tot += esm_len[i-1]\n",
    "            tot_w += est_m[i-1]\n",
    "            ukn_w += est_m[i-1]\n",
    "        \n",
    "        rate_d[i] = div_w[i] / (tot_w - ukn_w)\n",
    "        \n",
    "        est_d[i] = rate_d[i] * ukn_w\n",
    "        \n",
    "        est_m[i] = (1.0 - rate_d[i]) * ukn_w\n",
    "        esm_len[i] = (1.0 - rate_d[i]) * dm_ukn\n",
    "        \n",
    "        d_error[i] = known_d[i]**2*dm_tot**2*dm_ukn/(dm_tot - dm_ukn)**4 + dm_ukn**2*known_d[i]/(dm_tot - dm_ukn)**2\n",
    "        d_error[i] += dm_ukn**2*known_d[i]**2*dm_tot/(dm_tot - dm_ukn)**4\n",
    "\n",
    "    d_error = np.sqrt(d_error)\n",
    "    cumu_d = np.array([np.sum(div_w[:i+1])+np.sum(est_d[:i+1]) for i in range(len(est_d))])\n",
    "    cumu_e = np.array([math.sqrt(np.sum(d_error[:i+1]**2) + np.sum(known_d[:i+1])) for i in range(len(est_d))])\n",
    "    \n",
    "    return rate_d,years[1:],cumu_d,d_error,cumu_e, div_w+est_d\n",
    "rate_d,yrs,cumud,d_error,cumue,tot_d = estDiv(mlen, mwei, sflen, sfwei)"
   ]
  },
  {
   "cell_type": "code",
   "execution_count": 129,
   "metadata": {},
   "outputs": [
    {
     "data": {
      "text/plain": [
       "<matplotlib.text.Text at 0x114f2f6d0>"
      ]
     },
     "execution_count": 129,
     "metadata": {},
     "output_type": "execute_result"
    },
    {
     "data": {
      "image/png": "[encoded data removed]",
      "text/plain": [
       "<matplotlib.figure.Figure at 0x114ceb750>"
      ]
     },
     "metadata": {
      "needs_background": "light"
     },
     "output_type": "display_data"
    }
   ],
   "source": [
    "plt.errorbar(yrs,cumud/(np.sum(mwei)+np.sum(sfwei)),yerr=cumue/(len(mwei)+len(sfwei)))\n",
    "plt.xlabel('Marriage length (years)')\n",
    "plt.ylabel('Divorce fraction')"
   ]
  },
  {
   "cell_type": "code",
   "execution_count": 130,
   "metadata": {},
   "outputs": [
    {
     "name": "stdout",
     "output_type": "stream",
     "text": [
      "Year 1.0: divorce frac 0.018 +/- 0.002\n",
      "Year 2.0: divorce frac 0.048 +/- 0.002\n",
      "Year 3.0: divorce frac 0.076 +/- 0.003\n",
      "Year 4.0: divorce frac 0.106 +/- 0.004\n",
      "Year 5.0: divorce frac 0.134 +/- 0.004\n",
      "Year 6.0: divorce frac 0.162 +/- 0.005\n",
      "Year 7.0: divorce frac 0.187 +/- 0.005\n",
      "Year 8.0: divorce frac 0.212 +/- 0.005\n",
      "Year 9.0: divorce frac 0.232 +/- 0.006\n",
      "Year 10.0: divorce frac 0.251 +/- 0.006\n",
      "Year 11.0: divorce frac 0.269 +/- 0.006\n",
      "Year 12.0: divorce frac 0.293 +/- 0.007\n",
      "Year 13.0: divorce frac 0.302 +/- 0.007\n",
      "Year 14.0: divorce frac 0.317 +/- 0.007\n",
      "Year 15.0: divorce frac 0.337 +/- 0.008\n",
      "Year 16.0: divorce frac 0.351 +/- 0.008\n",
      "Year 17.0: divorce frac 0.36 +/- 0.009\n",
      "Year 18.0: divorce frac 0.366 +/- 0.009\n",
      "Year 19.0: divorce frac 0.383 +/- 0.01\n",
      "Year 20.0: divorce frac 0.394 +/- 0.012\n",
      "Year 21.0: divorce frac 0.407 +/- 0.013\n",
      "Year 22.0: divorce frac 0.426 +/- 0.019\n",
      "Year 23.0: divorce frac 0.426 +/- 0.019\n",
      "Year 24.0: divorce frac 0.442 +/- 0.029\n",
      "Year 25.0: divorce frac 0.442 +/- 0.029\n",
      "Year 26.0: divorce frac 0.452 +/- 0.041\n",
      "Year 27.0: divorce frac 0.452 +/- 0.041\n"
     ]
    }
   ],
   "source": [
    "for i in range(len(yrs)):\n",
    "    print('Year '+str(yrs[i])+': divorce frac '+str(round(cumud[i]/(np.sum(mwei)+np.sum(sfwei)),3))+' +/- '\n",
    "          +str(round(cumue[i]/(len(mwei)+len(sfwei)),3)))"
   ]
  },
  {
   "cell_type": "markdown",
   "metadata": {},
   "source": [
    "Divorce rate (after 27 years) 45.2% +/- 4.1%, just under the famed 'half of all marriages'. But, after 21 years, the yearly divorce rate starts bouncing between high values and 0.\n",
    "\n",
    "I will use the divorce rate at 22 years (consistent with that at 27 years anyway): 40.7% +/- 1.3%"
   ]
  },
  {
   "cell_type": "code",
   "execution_count": 131,
   "metadata": {},
   "outputs": [
    {
     "data": {
      "text/plain": [
       "<matplotlib.text.Text at 0x1150397d0>"
      ]
     },
     "execution_count": 131,
     "metadata": {},
     "output_type": "execute_result"
    },
    {
     "data": {
      "image/png": "[encoded data removed]",
      "text/plain": [
       "<matplotlib.figure.Figure at 0x114e34a50>"
      ]
     },
     "metadata": {
      "needs_background": "light"
     },
     "output_type": "display_data"
    }
   ],
   "source": [
    "plt.plot(yrs,rate_d)\n",
    "plt.xlabel('Marriage length (years)')\n",
    "plt.ylabel('Yearly divorce fraction')"
   ]
  },
  {
   "cell_type": "markdown",
   "metadata": {},
   "source": [
    "Might be some wisdom in the '5 year itch', years ~2-8 of a marriage have a general peak in yearly divorce fraction (ie the probability that a marriage, entering that year, will end in divorce within that year)"
   ]
  },
  {
   "cell_type": "code",
   "execution_count": 132,
   "metadata": {},
   "outputs": [
    {
     "data": {
      "text/plain": [
       "(4, 0.032547578405240293)"
      ]
     },
     "execution_count": 132,
     "metadata": {},
     "output_type": "execute_result"
    }
   ],
   "source": [
    "np.argmax(rate_d)+1,np.max(rate_d)"
   ]
  },
  {
   "cell_type": "markdown",
   "metadata": {},
   "source": [
    "What about using 2 year bins, as opposed to 1 year"
   ]
  },
  {
   "cell_type": "code",
   "execution_count": 133,
   "metadata": {},
   "outputs": [
    {
     "data": {
      "text/plain": [
       "<matplotlib.text.Text at 0x115172ed0>"
      ]
     },
     "execution_count": 133,
     "metadata": {},
     "output_type": "execute_result"
    },
    {
     "data": {
      "image/png": "[encoded data removed]",
      "text/plain": [
       "<matplotlib.figure.Figure at 0x114e12d10>"
      ]
     },
     "metadata": {
      "needs_background": "light"
     },
     "output_type": "display_data"
    }
   ],
   "source": [
    "rate_d2,yrs2,cumud2,d_error2,cumue2,tot_d2 = estDiv(mlen, mwei, sflen, sfwei,dyr=2.0)\n",
    "plt.errorbar(yrs2,cumud2/(np.sum(mwei)+np.sum(sfwei)),yerr=cumue2/(len(mwei)+len(sfwei)))\n",
    "plt.xlabel('Marriage length (years)')\n",
    "plt.ylabel('Divorce fraction')"
   ]
  },
  {
   "cell_type": "code",
   "execution_count": 135,
   "metadata": {},
   "outputs": [
    {
     "name": "stdout",
     "output_type": "stream",
     "text": [
      "Year 2.0: divorce frac 0.048 +/- 0.003\n",
      "Year 4.0: divorce frac 0.109 +/- 0.004\n",
      "Year 6.0: divorce frac 0.166 +/- 0.005\n",
      "Year 8.0: divorce frac 0.218 +/- 0.006\n",
      "Year 10.0: divorce frac 0.258 +/- 0.006\n",
      "Year 12.0: divorce frac 0.301 +/- 0.007\n",
      "Year 14.0: divorce frac 0.326 +/- 0.008\n",
      "Year 16.0: divorce frac 0.363 +/- 0.009\n",
      "Year 18.0: divorce frac 0.379 +/- 0.01\n",
      "Year 20.0: divorce frac 0.412 +/- 0.014\n",
      "Year 22.0: divorce frac 0.447 +/- 0.024\n",
      "Year 24.0: divorce frac 0.462 +/- 0.033\n",
      "Year 26.0: divorce frac 0.472 +/- 0.042\n"
     ]
    }
   ],
   "source": [
    "for i in range(len(yrs2)):\n",
    "    print('Year '+str(yrs2[i])+': divorce frac '+str(round(cumud2[i]/(np.sum(mwei)+np.sum(sfwei)),3))+' +/- '\n",
    "          +str(round(cumue2[i]/(len(mwei)+len(sfwei)),3)))"
   ]
  },
  {
   "cell_type": "code",
   "execution_count": 136,
   "metadata": {},
   "outputs": [
    {
     "data": {
      "text/plain": [
       "<matplotlib.text.Text at 0x115010510>"
      ]
     },
     "execution_count": 136,
     "metadata": {},
     "output_type": "execute_result"
    },
    {
     "data": {
      "image/png": "[encoded data removed]",
      "text/plain": [
       "<matplotlib.figure.Figure at 0x1148f3bd0>"
      ]
     },
     "metadata": {
      "needs_background": "light"
     },
     "output_type": "display_data"
    }
   ],
   "source": [
    "plt.plot(yrs2,rate_d2)\n",
    "plt.xlabel('Marriage length (years)')\n",
    "plt.ylabel('Yearly divorce fraction')"
   ]
  },
  {
   "cell_type": "code",
   "execution_count": null,
   "metadata": {},
   "outputs": [],
   "source": []
  }
 ],
 "metadata": {
  "kernelspec": {
   "display_name": "Python 2",
   "language": "python",
   "name": "python2"
  },
  "language_info": {
   "codemirror_mode": {
    "name": "ipython",
    "version": 2
   },
   "file_extension": ".py",
   "mimetype": "text/x-python",
   "name": "python",
   "nbconvert_exporter": "python",
   "pygments_lexer": "ipython2",
   "version": "2.7.15"
  }
 },
 "nbformat": 4,
 "nbformat_minor": 2
}
