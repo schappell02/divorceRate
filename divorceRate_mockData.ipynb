{
 "cells": [
  {
   "cell_type": "code",
   "execution_count": 1,
   "metadata": {},
   "outputs": [],
   "source": [
    "import pandas as pd\n",
    "import numpy as np\n",
    "import re\n",
    "import pylab as plt\n",
    "import copy\n",
    "import math"
   ]
  },
  {
   "cell_type": "markdown",
   "metadata": {},
   "source": [
    "StataDct code from Think Stats, as exercise in chapter 13, examined survival curve of divorce in marriage from a different cycle of NSFG survey"
   ]
  },
  {
   "cell_type": "code",
   "execution_count": 2,
   "metadata": {},
   "outputs": [],
   "source": [
    "def ReadStataDct(dct_file,filename):\n",
    "    \"\"\"Reads a Stata dictionary file.\n",
    "\n",
    "    dct_file: string filename\n",
    "    options: dict of options passed to open()\n",
    "\n",
    "    returns: FixedWidthVariables object\n",
    "    \n",
    "    FROM Think Stats (A. Downey)\n",
    "    \"\"\"\n",
    "    type_map = dict(byte=int, int=int, long=int, float=float, double=float)\n",
    "\n",
    "    var_info = []\n",
    "    for line in open(dct_file):\n",
    "        match = re.search( r'_column\\(([^)]*)\\)', line)\n",
    "        if match:\n",
    "            start = int(match.group(1))\n",
    "            t = line.split()\n",
    "            vtype, name, fstring = t[1:4]\n",
    "            name = name.lower()\n",
    "            if vtype.startswith('str'):\n",
    "                vtype = str\n",
    "            else:\n",
    "                vtype = type_map[vtype]\n",
    "            long_desc = ' '.join(t[4:]).strip('\"')\n",
    "            var_info.append((start, vtype, name, fstring, long_desc))\n",
    "            \n",
    "    columns = ['start', 'type', 'name', 'fstring', 'desc']\n",
    "    variables = pd.DataFrame(var_info, columns=columns)\n",
    "\n",
    "    # fill in the end column by shifting the start column\n",
    "    variables['end'] = variables.start.shift(-1)\n",
    "    variables.loc[len(variables)-1, 'end'] = 0\n",
    "\n",
    "    #dct = FixedWidthVariables(variables, index_base=1)\n",
    "    colspecs = variables[['start', 'end']] - 1\n",
    "    colspecs = colspecs.astype(np.int).values.tolist()\n",
    "    names = variables['name']\n",
    "    df = pd.read_fwf(filename,colspecs=colspecs,names=names)\n",
    "    return df"
   ]
  },
  {
   "cell_type": "code",
   "execution_count": 3,
   "metadata": {},
   "outputs": [],
   "source": [
    "df=ReadStataDct('2006_2010_FemRespSetup.dct','2006_2010_FemResp.dat')"
   ]
  },
  {
   "cell_type": "code",
   "execution_count": 4,
   "metadata": {},
   "outputs": [
    {
     "name": "stderr",
     "output_type": "stream",
     "text": [
      "/anaconda3/envs/condasc/lib/python2.7/site-packages/ipykernel_launcher.py:8: SettingWithCopyWarning: \n",
      "A value is trying to be set on a copy of a slice from a DataFrame\n",
      "\n",
      "See the caveats in the documentation: http://pandas.pydata.org/pandas-docs/stable/indexing.html#indexing-view-versus-copy\n",
      "  \n"
     ]
    }
   ],
   "source": [
    "def addMYdate_len(df):\n",
    "    df['intvMY'] = (df.cmintvw - 1278.0)/12.0 + 2006.5\n",
    "    df['cmarMY'] = (df.cmmarrch - 1278.0)/12.0 + 2006.5\n",
    "    \n",
    "    # for on going marriages, get length of marriage, so far, at time of interview\n",
    "    df['sofarLen'] = df.intvMY - df.cmarMY\n",
    "    tmpLen = df.sofarLen\n",
    "    tmpLen[tmpLen < 0] = 0\n",
    "    \n",
    "    for i in range(6):\n",
    "        if i > 0:\n",
    "            col_name = ['whmarhx_y'+str(i+1),'whmarhx_m'+str(i+1),'divdathx_y'+str(i+1),'divdathx_m'+str(i+1)]\n",
    "        else:\n",
    "            col_name = ['whmarhx_y','whmarhx_m','divdathx_y','divdathx_m']\n",
    "        tmp_month = copy.deepcopy(df[col_name[1]])\n",
    "        \n",
    "        # some months are encoded as > 12. 13, 14, 15, and 16 mean winter, fall, spring, and summer\n",
    "        # I take the middle month then as the month (will introduce some error)\n",
    "        # 98 and 99 means refused to answer or did not know, I take middle of year as guess\n",
    "        # once again this will introduce some error for those few affected\n",
    "        tmp_month[tmp_month == 13] = 1.0\n",
    "        tmp_month[tmp_month == 14] = 4.0\n",
    "        tmp_month[tmp_month == 15] = 7.0\n",
    "        tmp_month[tmp_month == 16] = 10.0\n",
    "        tmp_month[(tmp_month == 98) | (tmp_month == 99)] = 6.0\n",
    "        df['marMY'+str(i+1)] = df[col_name[0]] + tmp_month/12.0\n",
    "        \n",
    "        tmp_month = copy.deepcopy(df[col_name[3]])\n",
    "        tmp_month[tmp_month == 13] = 1.0\n",
    "        tmp_month[tmp_month == 14] = 4.0\n",
    "        tmp_month[tmp_month == 15] = 7.0\n",
    "        tmp_month[tmp_month == 16] = 10.0\n",
    "        tmp_month[(tmp_month == 98) | (tmp_month == 99)] = 6.0\n",
    "        df['divMY'+str(i+1)] = df[col_name[2]] + tmp_month/12.0\n",
    "        \n",
    "        # due to some of my guessing on month, the resulting marriage length\n",
    "        # calculated will be < 0 if people got married and divorced (or annuled)\n",
    "        # within the same year (or got the year wrong)\n",
    "        # and when people do not know the year or refuse to answer, it gets coded\n",
    "        # as 98 and 99, resutling in large, positive, or negative marriage lengths\n",
    "        # for the few affected, I force marriage length to be 0 (ie married and divorced the same year)\n",
    "        tmp_marLen = df['divMY'+str(i+1)] - df['marMY'+str(i+1)]\n",
    "        tmp_marLen[(tmp_marLen < 0) | (tmp_marLen > 1e2)] = 0\n",
    "        df['marLen'+str(i+1)] = tmp_marLen\n",
    "\n",
    "addMYdate_len(df)"
   ]
  },
  {
   "cell_type": "code",
   "execution_count": 5,
   "metadata": {},
   "outputs": [],
   "source": [
    "# from now on, treat all divorces the same\n",
    "# let's get length of marriages, that end in divorce and are on going, into two arrays\n",
    "def divMarArray(df):\n",
    "    all_mlen = np.array(df.marLen1.dropna())\n",
    "    all_mwei = np.array(df[df.marLen1>=0].wgtq1q16)\n",
    "    for i in range(5):\n",
    "        tmp_array = np.array(df['marLen'+str(i+2)].dropna())\n",
    "        all_mlen = np.append(all_mlen,tmp_array)\n",
    "        tmp_array = np.array(df[df['marLen'+str(i+2)]>=0].wgtq1q16)\n",
    "        all_mwei = np.append(all_mwei,tmp_array)\n",
    "    \n",
    "    sf_len = np.array(df.sofarLen.dropna())\n",
    "    sf_wei = np.array(df[df.sofarLen>=0].wgtq1q16)\n",
    "    return all_mlen, all_mwei, sf_len, sf_wei\n",
    "mlen, mwei, sflen, sfwei = divMarArray(df)"
   ]
  },
  {
   "cell_type": "code",
   "execution_count": 6,
   "metadata": {},
   "outputs": [],
   "source": [
    "def estDiv(d_arr,d_wei,sm_arr,sm_wei,dyr=1.0):\n",
    "    years = np.array(range(int(np.max(d_arr)/dyr + 1.0)))*dyr\n",
    "    est_d = np.zeros(len(years)-1)\n",
    "    est_m = np.zeros(len(years)-1)\n",
    "    esd_len = np.zeros(len(years)-1)\n",
    "    esm_len = np.zeros(len(years)-1)\n",
    "    rate_d = np.zeros(len(years)-1)\n",
    "    div_w = np.zeros(len(years)-1)\n",
    "    known_d = np.zeros(len(years)-1)\n",
    "    d_error = np.zeros(len(years)-1)\n",
    "    \n",
    "    \n",
    "    for i in range(len(years)-1):\n",
    "        dm_tot = float(len(np.where(d_arr >= years[i])[0]) + len(np.where(sm_arr >= years[i])[0]))\n",
    "        tot_w = np.sum(d_wei[d_arr >= years[i]]) + np.sum(sm_wei[sm_arr >= years[i]])\n",
    "        \n",
    "        known_d[i] = float(len(np.where((d_arr >= years[i]) & (d_arr < years[i+1]))[0]))\n",
    "        div_w[i] = np.sum(d_wei[(d_arr >= years[i]) & (d_arr < years[i+1])])\n",
    "        \n",
    "        dm_ukn = float(len(np.where((sm_arr >= years[i]) & (sm_arr < years[i+1]))[0]))\n",
    "        ukn_w = np.sum(sm_wei[(sm_arr >= years[i]) & (sm_arr < years[i+1])])\n",
    "        if i > 0:\n",
    "            dm_ukn += esm_len[i-1]\n",
    "            dm_tot += esm_len[i-1]\n",
    "            tot_w += est_m[i-1]\n",
    "            ukn_w += est_m[i-1]\n",
    "        \n",
    "        rate_d[i] = div_w[i] / (tot_w - ukn_w)\n",
    "        \n",
    "        est_d[i] = rate_d[i] * ukn_w\n",
    "        \n",
    "        est_m[i] = (1.0 - rate_d[i]) * ukn_w\n",
    "        esm_len[i] = (1.0 - rate_d[i]) * dm_ukn\n",
    "        \n",
    "        d_error[i] = known_d[i]**2*dm_tot**2*dm_ukn/(dm_tot - dm_ukn)**4 + dm_ukn**2*known_d[i]/(dm_tot - dm_ukn)**2\n",
    "        d_error[i] += dm_ukn**2*known_d[i]**2*dm_tot/(dm_tot - dm_ukn)**4\n",
    "\n",
    "    d_error = np.sqrt(d_error)\n",
    "    cumu_d = np.array([np.sum(div_w[:i+1])+np.sum(est_d[:i+1]) for i in range(len(est_d))])\n",
    "    cumu_e = np.array([math.sqrt(np.sum(d_error[:i+1]**2) + np.sum(known_d[:i+1])) for i in range(len(est_d))])\n",
    "    \n",
    "    return rate_d,years[1:],cumu_d,d_error,cumu_e, div_w+est_d"
   ]
  },
  {
   "cell_type": "markdown",
   "metadata": {},
   "source": [
    "Function to create each cycle of mock data\n",
    "\n",
    "1) create mock sample w/ same size as real sample\n",
    "\n",
    "2) based on the input real divorce rate, randomly assign entries to either stay married or end in divorce\n",
    "\n",
    "3) for those ending in divorce, randomly draw marriage length (before divorce) from real data\n",
    "    - then, randomly draw time of participation in study from real data\n",
    "    - compare the two, if the interview happens before the divorce, they will still be measured as married\n",
    "    \n",
    "4) for those who are measured to be divorce, return their marriage length before divorce\n",
    "\n",
    "5) for those who will divorce after the study, return their marriage length so far\n",
    "\n",
    "6) for those who will remain married, randomly draw marriage length at time of study participation (from real data)\n",
    "    - add this to the array from step 5)"
   ]
  },
  {
   "cell_type": "code",
   "execution_count": 19,
   "metadata": {},
   "outputs": [],
   "source": [
    "def createMock(d_len, d_wei, m_len, m_wei, real_dr=0.5):\n",
    "    all_tot = len(d_len)+len(m_len)\n",
    "    \n",
    "    div_sim = np.random.random(all_tot)\n",
    "    \n",
    "    num_div = len(div_sim[div_sim < real_dr])\n",
    "    num_mar = all_tot - num_div\n",
    "    \n",
    "    len_div = np.random.choice(d_len,num_div,p=d_wei/np.sum(d_wei),replace=True)\n",
    "    len_itv = np.random.choice(m_len,num_div,p=m_wei/np.sum(m_wei),replace=True)\n",
    "    \n",
    "    len_diff = len_div - len_itv\n",
    "    \n",
    "    return_div = len_div[len_diff <= 0]\n",
    "    \n",
    "    len_mar = np.random.choice(m_len,num_mar,p=m_wei/np.sum(m_wei),replace=True)\n",
    "    return_mar = len_itv[len_diff > 0]\n",
    "    return_mar = np.append(len_mar,return_mar)\n",
    "    \n",
    "    return return_div, return_mar"
   ]
  },
  {
   "cell_type": "markdown",
   "metadata": {},
   "source": [
    "do this for a set number of iterations\n",
    "\n",
    "Print the fraction of iterations where the calculated divorce rate is <= 0.452 (the final divorce rate at 27 yrs found from the real data). Also print the fraction of iterations which are consistent with the input real divorce rate"
   ]
  },
  {
   "cell_type": "code",
   "execution_count": 68,
   "metadata": {},
   "outputs": [],
   "source": [
    "def runMock(d_len, d_wei, m_len, m_wei, real_dr=0.5,numt=10000,idB=-1):\n",
    "    num_p = 0\n",
    "    num_c = 0\n",
    "    mock_dr = np.zeros(numt)\n",
    "    mock_er = np.zeros(numt)\n",
    "    \n",
    "    for i in range(numt):\n",
    "        mock_div, mock_mar = createMock(d_len, d_wei, m_len, m_wei, real_dr=real_dr)\n",
    "        mock_dw = np.zeros(len(mock_div))+1.0\n",
    "        mock_mw = np.zeros(len(mock_mar))+1.0\n",
    "        mock_rate,yrs,mock_cumud,mock_d_error,mock_cumue,mock_tot_d = estDiv(mock_div,mock_dw,mock_mar,mock_mw)\n",
    "        \n",
    "        mock_dr[i] = round(mock_cumud[idB]/(np.sum(mock_dw)+np.sum(mock_mw)),3)\n",
    "        mock_er[i] = round(mock_cumue[idB]/(len(mwei)+len(sfwei)),3)\n",
    "        if mock_dr[i] <= 0.452:\n",
    "            num_p += 1.0\n",
    "        if (mock_dr[i] - mock_er[i] <= real_dr) & (mock_dr[i] + mock_er[i] >= real_dr):\n",
    "            num_c += 1.0\n",
    "            \n",
    "    print ('Frac w/ divorce rate <= 0.452: '+str(num_p/numt))\n",
    "    print ('Frac consistent w/ DR = '+str(real_dr)+': '+str(num_c/numt))\n",
    "    return mock_dr, mock_er"
   ]
  },
  {
   "cell_type": "code",
   "execution_count": 63,
   "metadata": {},
   "outputs": [
    {
     "name": "stdout",
     "output_type": "stream",
     "text": [
      "Frac w/ divorce rate <= 0.452: 0\n",
      "Frac consistent w/ DR = 0.5 : 0.3191\n"
     ]
    }
   ],
   "source": [
    "mock_dr, mock_er = runMock(mlen, mwei, sflen, sfwei)"
   ]
  },
  {
   "cell_type": "markdown",
   "metadata": {},
   "source": [
    "The result found from the real data is significant"
   ]
  },
  {
   "cell_type": "code",
   "execution_count": 64,
   "metadata": {},
   "outputs": [
    {
     "data": {
      "text/plain": [
       "<matplotlib.text.Text at 0x119805b90>"
      ]
     },
     "execution_count": 64,
     "metadata": {},
     "output_type": "execute_result"
    },
    {
     "data": {
      "image/png": "[encoded data removed]",
      "text/plain": [
       "<matplotlib.figure.Figure at 0x1195b3050>"
      ]
     },
     "metadata": {
      "needs_background": "light"
     },
     "output_type": "display_data"
    }
   ],
   "source": [
    "hist,bins,junk = plt.hist(mock_dr,bins=15,normed=1)\n",
    "plt.plot([0.5,0.5],[0,np.max(hist)+3])\n",
    "plt.ylim([0,np.max(hist)+3])\n",
    "plt.xlabel('Calculated Divorce Fraction')\n",
    "plt.ylabel('Frequency')"
   ]
  },
  {
   "cell_type": "markdown",
   "metadata": {},
   "source": [
    "As previously suspected from the analysis of the real data, final divorce fractions from mock data are generally over-estimates of the true value (shown here with the vertical line)"
   ]
  },
  {
   "cell_type": "markdown",
   "metadata": {},
   "source": [
    "Perhaps this will change if divorce rate is calculated at earlier times"
   ]
  },
  {
   "cell_type": "code",
   "execution_count": 65,
   "metadata": {},
   "outputs": [
    {
     "name": "stdout",
     "output_type": "stream",
     "text": [
      "Frac w/ divorce rate <= 0.452: 0\n",
      "Frac consistent w/ DR = 0.5 : 0.7041\n"
     ]
    }
   ],
   "source": [
    "junk, _ = runMock(mlen, mwei, sflen, sfwei,idB=15)"
   ]
  },
  {
   "cell_type": "code",
   "execution_count": 66,
   "metadata": {},
   "outputs": [
    {
     "name": "stdout",
     "output_type": "stream",
     "text": [
      "Frac w/ divorce rate <= 0.452: 0\n",
      "Frac consistent w/ DR = 0.5 : 0.4043\n"
     ]
    }
   ],
   "source": [
    "junk, _ = runMock(mlen, mwei, sflen, sfwei,idB=-2)"
   ]
  },
  {
   "cell_type": "markdown",
   "metadata": {},
   "source": [
    "And what about the final result I previously reported (40.7% at 21 years)"
   ]
  },
  {
   "cell_type": "code",
   "execution_count": 69,
   "metadata": {},
   "outputs": [
    {
     "name": "stdout",
     "output_type": "stream",
     "text": [
      "Frac w/ divorce rate <= 0.452: 0.9999\n",
      "Frac consistent w/ DR = 0.407: 0.3389\n"
     ]
    }
   ],
   "source": [
    "mock_dr_p, mock_er_p = runMock(mlen, mwei, sflen, sfwei,real_dr=0.407)"
   ]
  },
  {
   "cell_type": "code",
   "execution_count": 72,
   "metadata": {},
   "outputs": [
    {
     "data": {
      "text/plain": [
       "<matplotlib.text.Text at 0x1199d9d10>"
      ]
     },
     "execution_count": 72,
     "metadata": {},
     "output_type": "execute_result"
    },
    {
     "data": {
      "image/png": "[encoded data removed]",
      "text/plain": [
       "<matplotlib.figure.Figure at 0x119805f90>"
      ]
     },
     "metadata": {
      "needs_background": "light"
     },
     "output_type": "display_data"
    }
   ],
   "source": [
    "hist,bins,junk = plt.hist(mock_dr_p,bins=15,normed=1)\n",
    "plt.plot([0.407,0.407],[0,np.max(hist)+3])\n",
    "plt.ylim([0,np.max(hist)+3])\n",
    "plt.xlabel('Calculated Divorce Fraction')\n",
    "plt.ylabel('Frequency')"
   ]
  },
  {
   "cell_type": "code",
   "execution_count": null,
   "metadata": {},
   "outputs": [],
   "source": []
  }
 ],
 "metadata": {
  "kernelspec": {
   "display_name": "Python 2",
   "language": "python",
   "name": "python2"
  },
  "language_info": {
   "codemirror_mode": {
    "name": "ipython",
    "version": 2
   },
   "file_extension": ".py",
   "mimetype": "text/x-python",
   "name": "python",
   "nbconvert_exporter": "python",
   "pygments_lexer": "ipython2",
   "version": "2.7.15"
  }
 },
 "nbformat": 4,
 "nbformat_minor": 2
}
