{
 "cells": [
  {
   "cell_type": "code",
   "execution_count": 117,
   "metadata": {},
   "outputs": [],
   "source": [
    "import pandas as pd\n",
    "import numpy as np\n",
    "import re\n",
    "import pylab as plt\n",
    "import copy\n",
    "import math"
   ]
  },
  {
   "cell_type": "code",
   "execution_count": 22,
   "metadata": {},
   "outputs": [],
   "source": [
    "def ReadStataDct(dct_file,filename):\n",
    "    \"\"\"Reads a Stata dictionary file.\n",
    "\n",
    "    dct_file: string filename\n",
    "    options: dict of options passed to open()\n",
    "\n",
    "    returns: FixedWidthVariables object\n",
    "    \n",
    "    FROM Think Stats (A. Downey)\n",
    "    \"\"\"\n",
    "    type_map = dict(byte=int, int=int, long=int, float=float, double=float)\n",
    "\n",
    "    var_info = []\n",
    "    for line in open(dct_file):\n",
    "        match = re.search( r'_column\\(([^)]*)\\)', line)\n",
    "        if match:\n",
    "            start = int(match.group(1))\n",
    "            t = line.split()\n",
    "            vtype, name, fstring = t[1:4]\n",
    "            name = name.lower()\n",
    "            if vtype.startswith('str'):\n",
    "                vtype = str\n",
    "            else:\n",
    "                vtype = type_map[vtype]\n",
    "            long_desc = ' '.join(t[4:]).strip('\"')\n",
    "            var_info.append((start, vtype, name, fstring, long_desc))\n",
    "            \n",
    "    columns = ['start', 'type', 'name', 'fstring', 'desc']\n",
    "    variables = pd.DataFrame(var_info, columns=columns)\n",
    "\n",
    "    # fill in the end column by shifting the start column\n",
    "    variables['end'] = variables.start.shift(-1)\n",
    "    variables.loc[len(variables)-1, 'end'] = 0\n",
    "\n",
    "    #dct = FixedWidthVariables(variables, index_base=1)\n",
    "    colspecs = variables[['start', 'end']] - 1\n",
    "    colspecs = colspecs.astype(np.int).values.tolist()\n",
    "    names = variables['name']\n",
    "    df = pd.read_fwf(filename,colspecs=colspecs,names=names)\n",
    "    return df"
   ]
  },
  {
   "cell_type": "markdown",
   "metadata": {},
   "source": [
    "Code from Think Stats, as exercise in chapter 13, examined survival curve of divorce in marriage from a different cycle of NSFG survey"
   ]
  },
  {
   "cell_type": "code",
   "execution_count": 202,
   "metadata": {},
   "outputs": [],
   "source": [
    "df=ReadStataDct('2006_2010_FemRespSetup.dct','2006_2010_FemResp.dat')"
   ]
  },
  {
   "cell_type": "markdown",
   "metadata": {},
   "source": [
    "Using 2006-2010 as it has the largest number of responses"
   ]
  },
  {
   "cell_type": "code",
   "execution_count": 77,
   "metadata": {},
   "outputs": [
    {
     "data": {
      "text/html": [
       "<div>\n",
       "<style scoped>\n",
       "    .dataframe tbody tr th:only-of-type {\n",
       "        vertical-align: middle;\n",
       "    }\n",
       "\n",
       "    .dataframe tbody tr th {\n",
       "        vertical-align: top;\n",
       "    }\n",
       "\n",
       "    .dataframe thead th {\n",
       "        text-align: right;\n",
       "    }\n",
       "</style>\n",
       "<table border=\"1\" class=\"dataframe\">\n",
       "  <thead>\n",
       "    <tr style=\"text-align: right;\">\n",
       "      <th></th>\n",
       "      <th>caseid</th>\n",
       "      <th>rscrninf</th>\n",
       "      <th>rscrage</th>\n",
       "      <th>rscrhisp</th>\n",
       "      <th>rscrrace</th>\n",
       "      <th>age_a</th>\n",
       "      <th>age_r</th>\n",
       "      <th>cmbirth</th>\n",
       "      <th>agescrn</th>\n",
       "      <th>marstat</th>\n",
       "      <th>...</th>\n",
       "      <th>secu</th>\n",
       "      <th>sest</th>\n",
       "      <th>cmintvw</th>\n",
       "      <th>cmlstyr</th>\n",
       "      <th>cmjan3yr</th>\n",
       "      <th>cmjan5yr</th>\n",
       "      <th>questyear</th>\n",
       "      <th>quarter</th>\n",
       "      <th>phase</th>\n",
       "      <th>intvlngth</th>\n",
       "    </tr>\n",
       "  </thead>\n",
       "  <tbody>\n",
       "    <tr>\n",
       "      <th>count</th>\n",
       "      <td>12279.000000</td>\n",
       "      <td>12279.000000</td>\n",
       "      <td>12279.000000</td>\n",
       "      <td>12279.000000</td>\n",
       "      <td>12279.000000</td>\n",
       "      <td>12279.000000</td>\n",
       "      <td>12279.000000</td>\n",
       "      <td>12279.000000</td>\n",
       "      <td>12279.000000</td>\n",
       "      <td>12279.000000</td>\n",
       "      <td>...</td>\n",
       "      <td>12279.000000</td>\n",
       "      <td>12279.000000</td>\n",
       "      <td>12279.000000</td>\n",
       "      <td>12279.000000</td>\n",
       "      <td>12279.000000</td>\n",
       "      <td>12279.000000</td>\n",
       "      <td>12279.000000</td>\n",
       "      <td>12279.000000</td>\n",
       "      <td>12279.000000</td>\n",
       "      <td>12279.000000</td>\n",
       "    </tr>\n",
       "    <tr>\n",
       "      <th>mean</th>\n",
       "      <td>33128.309309</td>\n",
       "      <td>2.798844</td>\n",
       "      <td>28.583598</td>\n",
       "      <td>4.155632</td>\n",
       "      <td>4.703722</td>\n",
       "      <td>28.635068</td>\n",
       "      <td>28.635068</td>\n",
       "      <td>953.114179</td>\n",
       "      <td>28.599479</td>\n",
       "      <td>3.736705</td>\n",
       "      <td>...</td>\n",
       "      <td>2.003991</td>\n",
       "      <td>135.988924</td>\n",
       "      <td>1302.753644</td>\n",
       "      <td>1290.753644</td>\n",
       "      <td>1261.509162</td>\n",
       "      <td>1237.509162</td>\n",
       "      <td>2.535386</td>\n",
       "      <td>8.668377</td>\n",
       "      <td>1.084046</td>\n",
       "      <td>81.455548</td>\n",
       "    </tr>\n",
       "    <tr>\n",
       "      <th>std</th>\n",
       "      <td>4679.506229</td>\n",
       "      <td>1.989939</td>\n",
       "      <td>8.410234</td>\n",
       "      <td>1.632401</td>\n",
       "      <td>1.039618</td>\n",
       "      <td>8.445265</td>\n",
       "      <td>8.445265</td>\n",
       "      <td>102.338992</td>\n",
       "      <td>8.444188</td>\n",
       "      <td>2.275133</td>\n",
       "      <td>...</td>\n",
       "      <td>1.031860</td>\n",
       "      <td>14.482793</td>\n",
       "      <td>14.213140</td>\n",
       "      <td>14.213140</td>\n",
       "      <td>15.062623</td>\n",
       "      <td>15.062623</td>\n",
       "      <td>1.128579</td>\n",
       "      <td>4.706620</td>\n",
       "      <td>0.277468</td>\n",
       "      <td>100.251288</td>\n",
       "    </tr>\n",
       "    <tr>\n",
       "      <th>min</th>\n",
       "      <td>26141.000000</td>\n",
       "      <td>1.000000</td>\n",
       "      <td>15.000000</td>\n",
       "      <td>1.000000</td>\n",
       "      <td>1.000000</td>\n",
       "      <td>15.000000</td>\n",
       "      <td>15.000000</td>\n",
       "      <td>740.000000</td>\n",
       "      <td>15.000000</td>\n",
       "      <td>1.000000</td>\n",
       "      <td>...</td>\n",
       "      <td>1.000000</td>\n",
       "      <td>101.000000</td>\n",
       "      <td>1278.000000</td>\n",
       "      <td>1266.000000</td>\n",
       "      <td>1237.000000</td>\n",
       "      <td>1213.000000</td>\n",
       "      <td>1.000000</td>\n",
       "      <td>1.000000</td>\n",
       "      <td>1.000000</td>\n",
       "      <td>15.600000</td>\n",
       "    </tr>\n",
       "    <tr>\n",
       "      <th>25%</th>\n",
       "      <td>29210.500000</td>\n",
       "      <td>1.000000</td>\n",
       "      <td>21.000000</td>\n",
       "      <td>5.000000</td>\n",
       "      <td>4.000000</td>\n",
       "      <td>21.000000</td>\n",
       "      <td>21.000000</td>\n",
       "      <td>869.000000</td>\n",
       "      <td>21.000000</td>\n",
       "      <td>1.000000</td>\n",
       "      <td>...</td>\n",
       "      <td>1.000000</td>\n",
       "      <td>126.000000</td>\n",
       "      <td>1290.000000</td>\n",
       "      <td>1278.000000</td>\n",
       "      <td>1249.000000</td>\n",
       "      <td>1225.000000</td>\n",
       "      <td>1.000000</td>\n",
       "      <td>4.000000</td>\n",
       "      <td>1.000000</td>\n",
       "      <td>52.940000</td>\n",
       "    </tr>\n",
       "    <tr>\n",
       "      <th>50%</th>\n",
       "      <td>32280.000000</td>\n",
       "      <td>1.000000</td>\n",
       "      <td>28.000000</td>\n",
       "      <td>5.000000</td>\n",
       "      <td>5.000000</td>\n",
       "      <td>28.000000</td>\n",
       "      <td>28.000000</td>\n",
       "      <td>959.000000</td>\n",
       "      <td>28.000000</td>\n",
       "      <td>4.000000</td>\n",
       "      <td>...</td>\n",
       "      <td>2.000000</td>\n",
       "      <td>140.000000</td>\n",
       "      <td>1303.000000</td>\n",
       "      <td>1291.000000</td>\n",
       "      <td>1261.000000</td>\n",
       "      <td>1237.000000</td>\n",
       "      <td>3.000000</td>\n",
       "      <td>9.000000</td>\n",
       "      <td>1.000000</td>\n",
       "      <td>68.350000</td>\n",
       "    </tr>\n",
       "    <tr>\n",
       "      <th>75%</th>\n",
       "      <td>36917.500000</td>\n",
       "      <td>5.000000</td>\n",
       "      <td>36.000000</td>\n",
       "      <td>5.000000</td>\n",
       "      <td>5.000000</td>\n",
       "      <td>36.000000</td>\n",
       "      <td>36.000000</td>\n",
       "      <td>1040.000000</td>\n",
       "      <td>36.000000</td>\n",
       "      <td>6.000000</td>\n",
       "      <td>...</td>\n",
       "      <td>3.000000</td>\n",
       "      <td>148.000000</td>\n",
       "      <td>1315.000000</td>\n",
       "      <td>1303.000000</td>\n",
       "      <td>1273.000000</td>\n",
       "      <td>1249.000000</td>\n",
       "      <td>4.000000</td>\n",
       "      <td>13.000000</td>\n",
       "      <td>1.000000</td>\n",
       "      <td>86.480000</td>\n",
       "    </tr>\n",
       "    <tr>\n",
       "      <th>max</th>\n",
       "      <td>42681.000000</td>\n",
       "      <td>5.000000</td>\n",
       "      <td>44.000000</td>\n",
       "      <td>5.000000</td>\n",
       "      <td>6.000000</td>\n",
       "      <td>45.000000</td>\n",
       "      <td>45.000000</td>\n",
       "      <td>1143.000000</td>\n",
       "      <td>44.000000</td>\n",
       "      <td>6.000000</td>\n",
       "      <td>...</td>\n",
       "      <td>4.000000</td>\n",
       "      <td>156.000000</td>\n",
       "      <td>1326.000000</td>\n",
       "      <td>1314.000000</td>\n",
       "      <td>1285.000000</td>\n",
       "      <td>1261.000000</td>\n",
       "      <td>4.000000</td>\n",
       "      <td>16.000000</td>\n",
       "      <td>2.000000</td>\n",
       "      <td>997.000000</td>\n",
       "    </tr>\n",
       "  </tbody>\n",
       "</table>\n",
       "<p>8 rows × 3741 columns</p>\n",
       "</div>"
      ],
      "text/plain": [
       "             caseid      rscrninf       rscrage      rscrhisp      rscrrace  \\\n",
       "count  12279.000000  12279.000000  12279.000000  12279.000000  12279.000000   \n",
       "mean   33128.309309      2.798844     28.583598      4.155632      4.703722   \n",
       "std     4679.506229      1.989939      8.410234      1.632401      1.039618   \n",
       "min    26141.000000      1.000000     15.000000      1.000000      1.000000   \n",
       "25%    29210.500000      1.000000     21.000000      5.000000      4.000000   \n",
       "50%    32280.000000      1.000000     28.000000      5.000000      5.000000   \n",
       "75%    36917.500000      5.000000     36.000000      5.000000      5.000000   \n",
       "max    42681.000000      5.000000     44.000000      5.000000      6.000000   \n",
       "\n",
       "              age_a         age_r       cmbirth       agescrn       marstat  \\\n",
       "count  12279.000000  12279.000000  12279.000000  12279.000000  12279.000000   \n",
       "mean      28.635068     28.635068    953.114179     28.599479      3.736705   \n",
       "std        8.445265      8.445265    102.338992      8.444188      2.275133   \n",
       "min       15.000000     15.000000    740.000000     15.000000      1.000000   \n",
       "25%       21.000000     21.000000    869.000000     21.000000      1.000000   \n",
       "50%       28.000000     28.000000    959.000000     28.000000      4.000000   \n",
       "75%       36.000000     36.000000   1040.000000     36.000000      6.000000   \n",
       "max       45.000000     45.000000   1143.000000     44.000000      6.000000   \n",
       "\n",
       "           ...               secu          sest       cmintvw       cmlstyr  \\\n",
       "count      ...       12279.000000  12279.000000  12279.000000  12279.000000   \n",
       "mean       ...           2.003991    135.988924   1302.753644   1290.753644   \n",
       "std        ...           1.031860     14.482793     14.213140     14.213140   \n",
       "min        ...           1.000000    101.000000   1278.000000   1266.000000   \n",
       "25%        ...           1.000000    126.000000   1290.000000   1278.000000   \n",
       "50%        ...           2.000000    140.000000   1303.000000   1291.000000   \n",
       "75%        ...           3.000000    148.000000   1315.000000   1303.000000   \n",
       "max        ...           4.000000    156.000000   1326.000000   1314.000000   \n",
       "\n",
       "           cmjan3yr      cmjan5yr     questyear       quarter         phase  \\\n",
       "count  12279.000000  12279.000000  12279.000000  12279.000000  12279.000000   \n",
       "mean    1261.509162   1237.509162      2.535386      8.668377      1.084046   \n",
       "std       15.062623     15.062623      1.128579      4.706620      0.277468   \n",
       "min     1237.000000   1213.000000      1.000000      1.000000      1.000000   \n",
       "25%     1249.000000   1225.000000      1.000000      4.000000      1.000000   \n",
       "50%     1261.000000   1237.000000      3.000000      9.000000      1.000000   \n",
       "75%     1273.000000   1249.000000      4.000000     13.000000      1.000000   \n",
       "max     1285.000000   1261.000000      4.000000     16.000000      2.000000   \n",
       "\n",
       "          intvlngth  \n",
       "count  12279.000000  \n",
       "mean      81.455548  \n",
       "std      100.251288  \n",
       "min       15.600000  \n",
       "25%       52.940000  \n",
       "50%       68.350000  \n",
       "75%       86.480000  \n",
       "max      997.000000  \n",
       "\n",
       "[8 rows x 3741 columns]"
      ]
     },
     "execution_count": 77,
     "metadata": {},
     "output_type": "execute_result"
    }
   ],
   "source": [
    "df.describe()"
   ]
  },
  {
   "cell_type": "code",
   "execution_count": 78,
   "metadata": {},
   "outputs": [
    {
     "data": {
      "text/plain": [
       "Index([u'caseid', u'rscrninf', u'rscrage', u'rscrhisp', u'rscrrace', u'age_a',\n",
       "       u'age_r', u'cmbirth', u'agescrn', u'marstat',\n",
       "       ...\n",
       "       u'secu', u'sest', u'cmintvw', u'cmlstyr', u'cmjan3yr', u'cmjan5yr',\n",
       "       u'questyear', u'quarter', u'phase', u'intvlngth'],\n",
       "      dtype='object', length=3741)"
      ]
     },
     "execution_count": 78,
     "metadata": {},
     "output_type": "execute_result"
    }
   ],
   "source": [
    "df.columns"
   ]
  },
  {
   "cell_type": "markdown",
   "metadata": {},
   "source": [
    "Many columns, description for all in codebook https://www.icpsr.umich.edu/webdocs/Controller?displayPage=femaleResp"
   ]
  },
  {
   "cell_type": "code",
   "execution_count": 79,
   "metadata": {},
   "outputs": [
    {
     "data": {
      "text/plain": [
       "(1574, 1574)"
      ]
     },
     "execution_count": 79,
     "metadata": {},
     "output_type": "execute_result"
    }
   ],
   "source": [
    "len(df[['divdathx_y','whmarhx_y']].dropna()),len(df[['divdathx_y','whmarhx_y','divdathx_m','whmarhx_m']].dropna())"
   ]
  },
  {
   "cell_type": "code",
   "execution_count": 93,
   "metadata": {},
   "outputs": [
    {
     "data": {
      "text/plain": [
       "49"
      ]
     },
     "execution_count": 93,
     "metadata": {},
     "output_type": "execute_result"
    }
   ],
   "source": [
    "len(df[['divdathx_y','whmarhx_y','agemarhx']].dropna())"
   ]
  },
  {
   "cell_type": "markdown",
   "metadata": {},
   "source": [
    "Thinking about later examining divorce rate grouped by age when married cohort, will loss a lot of data"
   ]
  },
  {
   "cell_type": "code",
   "execution_count": 350,
   "metadata": {},
   "outputs": [
    {
     "name": "stdout",
     "output_type": "stream",
     "text": [
      "Frac of marriage 1 that end in divorce: 0.284269459996 +/- 0.0134388695483\n",
      "Frac of marriage 2 that end in divorce: 0.321285140562 +/- 0.0365880866632\n",
      "Frac of marriage 3 that end in divorce: 0.327586206897 +/- 0.0928476690885\n",
      "Frac of marriage 4 that end in divorce: 0.384615384615 +/- 0.277350098113\n",
      "Frac of marriage 5 that end in divorce: 0.4 +/- 0.4472135955\n",
      "Frac of marriage 6 that end in divorce: 0.0 +/- 0.707106781187\n",
      "\n",
      "Total frac of marriages that end in divorce: 0.289563862928 +/- 0.00671590689636\n"
     ]
    }
   ],
   "source": [
    "totM = 0\n",
    "totD = 0\n",
    "for i in range(6):\n",
    "    if i == 0:\n",
    "        tmpD = float(len(df[(df['marendhx'] == 2) | (df['marendhx'] == 3)]))\n",
    "        tmpM = float(len(df['whmarhx_y'].dropna()))\n",
    "        print ('Frac of marriage 1 that end in divorce: '+str(tmpD/tmpM)+' +/- '+str(1/math.sqrt(tmpM)))\n",
    "        totM += tmpM\n",
    "        totD += tmpD\n",
    "    else:\n",
    "        tmpD = float(len(df[(df['marendhx'+str(i+1)] == 2) | (df['marendhx'+str(i+1)] == 3)]))\n",
    "        tmpM = float(len(df['whmarhx_y'+str(i+1)].dropna()))\n",
    "        print ('Frac of marriage '+str(i+1)+' that end in divorce: '+str(tmpD/tmpM)+' +/- '+str(1/math.sqrt(tmpM)))\n",
    "        totM += tmpM\n",
    "        totD += tmpD\n",
    "print ('')\n",
    "print ('Total frac of marriages that end in divorce: '+str(totD/totM)+' +/- '+str(math.sqrt(totD)/totM))"
   ]
  },
  {
   "cell_type": "markdown",
   "metadata": {},
   "source": [
    "Accross the 2006-2010 database, ~29% of marriages have ended in divorce (w/ error of 0.7%, assuming Poisson noise)\n",
    "\n",
    "Important caveat is that this is based off # of divorces so far (as of data taking) => this is a lower limit\n",
    "\n",
    "It appears that divorce rate is consistent across marriage #, wonder if this is an artifact of these being lower limits, ie second and third marriages are more likely than first marriages to not have been given enough time to end in divorce at the time of being interviewed"
   ]
  },
  {
   "cell_type": "code",
   "execution_count": 208,
   "metadata": {},
   "outputs": [
    {
     "data": {
      "text/plain": [
       "count    1574.000000\n",
       "mean        6.230411\n",
       "std         4.565948\n",
       "min         0.000000\n",
       "25%         2.833333\n",
       "50%         5.250000\n",
       "75%         8.583333\n",
       "max        27.000000\n",
       "Name: marLen1, dtype: float64"
      ]
     },
     "execution_count": 208,
     "metadata": {},
     "output_type": "execute_result"
    }
   ],
   "source": [
    "def addMYdate_len(df):\n",
    "    df['intvMY'] = (df.cmintvw - 1278.0)/12.0 + 2006.5\n",
    "    df['cmarMY'] = (df.cmmarrch - 1278.0)/12.0 + 2006.5\n",
    "    df['sofarLen'] = df.intvMY - df.cmarMY\n",
    "    for i in range(6):\n",
    "        if i > 0:\n",
    "            col_name = ['whmarhx_y'+str(i+1),'whmarhx_m'+str(i+1),'divdathx_y'+str(i+1),'divdathx_m'+str(i+1)]\n",
    "        else:\n",
    "            col_name = ['whmarhx_y','whmarhx_m','divdathx_y','divdathx_m']\n",
    "        tmp_month = copy.deepcopy(df[col_name[1]])\n",
    "        tmp_month[tmp_month == 13] = 1.0\n",
    "        tmp_month[tmp_month == 14] = 4.0\n",
    "        tmp_month[tmp_month == 15] = 7.0\n",
    "        tmp_month[tmp_month == 98] = 10.0\n",
    "        tmp_month[(tmp_month == 98) | (tmp_month == 99)] = 6.0\n",
    "        df['marMY'+str(i+1)] = df[col_name[0]] + tmp_month/12.0\n",
    "        \n",
    "        tmp_month = copy.deepcopy(df[col_name[3]])\n",
    "        tmp_month[tmp_month == 13] = 1.0\n",
    "        tmp_month[tmp_month == 14] = 4.0\n",
    "        tmp_month[tmp_month == 15] = 7.0\n",
    "        tmp_month[tmp_month == 16] = 10.0\n",
    "        tmp_month[(tmp_month == 98) | (tmp_month == 99)] = 6.0\n",
    "        df['divMY'+str(i+1)] = df[col_name[2]] + tmp_month/12.0\n",
    "        \n",
    "        tmp_marLen = df['divMY'+str(i+1)] - df['marMY'+str(i+1)]\n",
    "        tmp_marLen[(tmp_marLen < 0) | (tmp_marLen > 1e2)] = 0\n",
    "        df['marLen'+str(i+1)] = tmp_marLen\n",
    "\n",
    "addMYdate_len(df)\n",
    "df.marLen1.describe()"
   ]
  },
  {
   "cell_type": "code",
   "execution_count": 217,
   "metadata": {},
   "outputs": [
    {
     "data": {
      "text/html": [
       "<div>\n",
       "<style scoped>\n",
       "    .dataframe tbody tr th:only-of-type {\n",
       "        vertical-align: middle;\n",
       "    }\n",
       "\n",
       "    .dataframe tbody tr th {\n",
       "        vertical-align: top;\n",
       "    }\n",
       "\n",
       "    .dataframe thead th {\n",
       "        text-align: right;\n",
       "    }\n",
       "</style>\n",
       "<table border=\"1\" class=\"dataframe\">\n",
       "  <thead>\n",
       "    <tr style=\"text-align: right;\">\n",
       "      <th></th>\n",
       "      <th>sofarLen</th>\n",
       "      <th>marLen1</th>\n",
       "      <th>marLen2</th>\n",
       "      <th>marLen3</th>\n",
       "      <th>marLen4</th>\n",
       "      <th>marLen5</th>\n",
       "    </tr>\n",
       "  </thead>\n",
       "  <tbody>\n",
       "    <tr>\n",
       "      <th>6031</th>\n",
       "      <td>4.916667</td>\n",
       "      <td>7.00</td>\n",
       "      <td>0.583333</td>\n",
       "      <td>1.000000</td>\n",
       "      <td>3.0</td>\n",
       "      <td>0.25</td>\n",
       "    </tr>\n",
       "    <tr>\n",
       "      <th>11628</th>\n",
       "      <td>4.916667</td>\n",
       "      <td>2.25</td>\n",
       "      <td>0.166667</td>\n",
       "      <td>1.416667</td>\n",
       "      <td>0.0</td>\n",
       "      <td>0.00</td>\n",
       "    </tr>\n",
       "  </tbody>\n",
       "</table>\n",
       "</div>"
      ],
      "text/plain": [
       "       sofarLen  marLen1   marLen2   marLen3  marLen4  marLen5\n",
       "6031   4.916667     7.00  0.583333  1.000000      3.0     0.25\n",
       "11628  4.916667     2.25  0.166667  1.416667      0.0     0.00"
      ]
     },
     "execution_count": 217,
     "metadata": {},
     "output_type": "execute_result"
    }
   ],
   "source": [
    "df[['sofarLen','marLen1','marLen2','marLen3','marLen4','marLen5']].dropna()"
   ]
  },
  {
   "cell_type": "markdown",
   "metadata": {},
   "source": [
    "Quick test that there is no overlap in sofarLen and any marLen param, that is current marriages are not being counted in the divorce metrics\n",
    "\n",
    "Examining the codebook, there are 2 respondants who entered into a 6th marriage and where not divorced at the time of being interviewed"
   ]
  },
  {
   "cell_type": "code",
   "execution_count": 218,
   "metadata": {},
   "outputs": [
    {
     "data": {
      "text/plain": [
       "<matplotlib.text.Text at 0x12043d9d0>"
      ]
     },
     "execution_count": 218,
     "metadata": {},
     "output_type": "execute_result"
    },
    {
     "data": {
      "image/png": "[encoded data removed]",
      "text/plain": [
       "<matplotlib.figure.Figure at 0x11f8cba90>"
      ]
     },
     "metadata": {
      "needs_background": "light"
     },
     "output_type": "display_data"
    }
   ],
   "source": [
    "plt.hist(df['marLen1'].dropna())\n",
    "plt.xlabel('Length of marrige before divorce [1st marriage] (yrs)')\n",
    "plt.ylabel('Frequency')"
   ]
  },
  {
   "cell_type": "code",
   "execution_count": 243,
   "metadata": {},
   "outputs": [
    {
     "data": {
      "text/plain": [
       "(5537, 1859)"
      ]
     },
     "execution_count": 243,
     "metadata": {},
     "output_type": "execute_result"
    }
   ],
   "source": [
    "def divMarArray(df):\n",
    "    #use_df = df[df.evrmarry == 1]\n",
    "    #all_mlen = np.array(use_df[use_df.whmarhx_y>0].marLen1)\n",
    "    all_mlen = np.array(df.marLen1.dropna())\n",
    "    for i in range(5):\n",
    "        #tmp_array = np.array(use_df[use_df['whmarhx_y'+str(i+2)] > 0]['marLen'+str(i+2)])\n",
    "        tmp_array = np.array(df['marLen'+str(i+2)].dropna())\n",
    "        all_mlen = np.append(all_mlen,tmp_array)\n",
    "    \n",
    "    sf_len = np.array(df.sofarLen.dropna())\n",
    "    return all_mlen, sf_len\n",
    "mlen, sflen = divMarArray(df)\n",
    "len(sflen),len(mlen)"
   ]
  },
  {
   "cell_type": "code",
   "execution_count": 244,
   "metadata": {},
   "outputs": [
    {
     "data": {
      "text/plain": [
       "<matplotlib.text.Text at 0x1208c74d0>"
      ]
     },
     "execution_count": 244,
     "metadata": {},
     "output_type": "execute_result"
    },
    {
     "data": {
      "image/png": "[encoded data removed]",
      "text/plain": [
       "<matplotlib.figure.Figure at 0x13f1a6410>"
      ]
     },
     "metadata": {
      "needs_background": "light"
     },
     "output_type": "display_data"
    }
   ],
   "source": [
    "bins = range(int(np.nanmax(mlen)+2))\n",
    "hist,bins, junk = plt.hist(mlen[np.isfinite(mlen)],bins=bins)\n",
    "plt.xlabel('Length of marriage before divorce (yrs)')\n",
    "plt.ylabel('Frequency')"
   ]
  },
  {
   "cell_type": "markdown",
   "metadata": {},
   "source": [
    "5 year itch, not so much, closer to 4 year itch, as demonstrated with the peak in the distribution"
   ]
  },
  {
   "cell_type": "code",
   "execution_count": 301,
   "metadata": {},
   "outputs": [],
   "source": [
    "def divFraclen(len_arr,sf_arr):\n",
    "    tot_len = len(len_arr)\n",
    "    tot_sti = len(sf_arr)\n",
    "    years = np.array(range(int(np.nanmax(len_arr)+1)))+1.0\n",
    "    divFrac = np.zeros(len(years))\n",
    "    low_est = np.zeros(len(years))\n",
    "    giv_est = np.zeros(len(years))\n",
    "    \n",
    "    #use_arr = len_arr[np.isfinite(len_arr)]\n",
    "    for i in range(len(years)):\n",
    "        #num_div = len(np.where((use_arr >= 0) & (use_arr < years[i]))[0])\n",
    "        num_div = len(np.where((len_arr >= 0) & (len_arr < years[i]))[0])\n",
    "        num_mar = len(np.where(sf_arr >= years[i])[0])\n",
    "        divFrac[i] = float(num_div) / (tot_len + num_mar)\n",
    "        low_est[i] = float(num_div) / (tot_len + tot_sti)\n",
    "        if i == 0:\n",
    "            giv_est[i] = float(num_div) / (tot_len + tot_sti)\n",
    "        else:\n",
    "            giv_est[i] = (num_div + (giv_est[i-1])*(tot_sti-num_mar)) / (tot_len + tot_sti)\n",
    "    return years, divFrac, low_est, giv_est\n",
    "yrs,frac,lowe,d_est = divFraclen(mlen,sflen)"
   ]
  },
  {
   "cell_type": "code",
   "execution_count": 303,
   "metadata": {},
   "outputs": [
    {
     "data": {
      "text/plain": [
       "<matplotlib.text.Text at 0x14e283d90>"
      ]
     },
     "execution_count": 303,
     "metadata": {},
     "output_type": "execute_result"
    },
    {
     "data": {
      "image/png": "[encoded data removed]",
      "text/plain": [
       "<matplotlib.figure.Figure at 0x14e200b50>"
      ]
     },
     "metadata": {
      "needs_background": "light"
     },
     "output_type": "display_data"
    }
   ],
   "source": [
    "plt.plot(yrs,frac,label='Marr < t not incl')\n",
    "#plt.plot(yrs,lowe,label='All marr stay marr')\n",
    "#plt.plot(yrs,d_est,label='Estimation')\n",
    "plt.xlabel('Years')\n",
    "#plt.legend()\n",
    "plt.ylabel('Num divorced before / (total divorce + num still married after)')"
   ]
  },
  {
   "cell_type": "markdown",
   "metadata": {},
   "source": [
    "Ratio is the number of marriages that have ended in divorce before a specific time (independent variable) divided by the total of two numbers: all marriages that ended in divorce at any time and marriages that are on-going that have lasted at least as long as specific time (independent variable)\n",
    "\n",
    "There is another group: those who are still married but have been married for less time than specified time t (independent variable), currently this group is not included in calculation and as result, the above fraction -> 1"
   ]
  },
  {
   "cell_type": "code",
   "execution_count": 308,
   "metadata": {},
   "outputs": [
    {
     "data": {
      "text/plain": [
       "<matplotlib.text.Text at 0x14e7bc490>"
      ]
     },
     "execution_count": 308,
     "metadata": {},
     "output_type": "execute_result"
    },
    {
     "data": {
      "image/png": "[encoded data removed]",
      "text/plain": [
       "<matplotlib.figure.Figure at 0x14e6a8bd0>"
      ]
     },
     "metadata": {
      "needs_background": "light"
     },
     "output_type": "display_data"
    }
   ],
   "source": [
    "bins = range(int(np.nanmax(mlen)+2))\n",
    "histD,bins,junk = plt.hist(mlen,bins=bins,histtype='step',label='Divorce')\n",
    "histM,bins,junk = plt.hist(sflen,bins=bins,histtype='step',label='Still Marr')\n",
    "hist,bins,junk = plt.hist(df[df.evrmarry==1].age_r-18,bins=bins,histtype='step',label='Age - 18')\n",
    "plt.legend()\n",
    "plt.xlabel('Years')\n",
    "plt.ylabel('Frequency')"
   ]
  },
  {
   "cell_type": "code",
   "execution_count": 307,
   "metadata": {},
   "outputs": [
    {
     "data": {
      "text/plain": [
       "<matplotlib.text.Text at 0x14e66fb90>"
      ]
     },
     "execution_count": 307,
     "metadata": {},
     "output_type": "execute_result"
    },
    {
     "data": {
      "image/png": "[encoded data removed]",
      "text/plain": [
       "<matplotlib.figure.Figure at 0x14e5abfd0>"
      ]
     },
     "metadata": {
      "needs_background": "light"
     },
     "output_type": "display_data"
    }
   ],
   "source": [
    "bins = range(int(np.nanmax(mlen)+2))\n",
    "histD,bins,junk = plt.hist(mlen,bins=bins,histtype='step',label='Divorce',normed=1)\n",
    "histM,bins,junk = plt.hist(sflen,bins=bins,histtype='step',label='Still Marr',normed=1)\n",
    "#hist,bins,junk = plt.hist(df[df.evrmarry==1].age_r-18,bins=bins,histtype='step',label='Age - 18')\n",
    "plt.legend()\n",
    "plt.xlabel('Years')\n",
    "plt.ylabel('Frequency')"
   ]
  },
  {
   "cell_type": "code",
   "execution_count": 305,
   "metadata": {},
   "outputs": [
    {
     "data": {
      "text/plain": [
       "[<matplotlib.lines.Line2D at 0x14e550b50>]"
      ]
     },
     "execution_count": 305,
     "metadata": {},
     "output_type": "execute_result"
    },
    {
     "data": {
      "image/png": "[encoded data removed]",
      "text/plain": [
       "<matplotlib.figure.Figure at 0x14e2a64d0>"
      ]
     },
     "metadata": {
      "needs_background": "light"
     },
     "output_type": "display_data"
    }
   ],
   "source": [
    "plt.plot(histD/histM)"
   ]
  },
  {
   "cell_type": "markdown",
   "metadata": {},
   "source": [
    "Frequency in age (of those ever married) flattens out at ~30 yrs"
   ]
  },
  {
   "cell_type": "code",
   "execution_count": 278,
   "metadata": {},
   "outputs": [
    {
     "data": {
      "text/plain": [
       "count    5534.000000\n",
       "mean       33.982472\n",
       "std         6.389113\n",
       "min        17.000000\n",
       "25%        29.000000\n",
       "50%        34.000000\n",
       "75%        39.000000\n",
       "max        45.000000\n",
       "Name: age_r, dtype: float64"
      ]
     },
     "execution_count": 278,
     "metadata": {},
     "output_type": "execute_result"
    }
   ],
   "source": [
    "df[df.evrmarry==1].age_r.describe()"
   ]
  },
  {
   "cell_type": "code",
   "execution_count": 275,
   "metadata": {},
   "outputs": [
    {
     "data": {
      "text/plain": [
       "<matplotlib.text.Text at 0x1455cb190>"
      ]
     },
     "execution_count": 275,
     "metadata": {},
     "output_type": "execute_result"
    },
    {
     "data": {
      "image/png": "[encoded data removed]",
      "text/plain": [
       "<matplotlib.figure.Figure at 0x145149c10>"
      ]
     },
     "metadata": {
      "needs_background": "light"
     },
     "output_type": "display_data"
    }
   ],
   "source": [
    "bins = range(int(df.age_r.max()+2))\n",
    "plt.hist(df[df.evrmarry==1].age_r,bins=bins)\n",
    "plt.xlabel('Years')\n",
    "plt.ylabel('Frequency')"
   ]
  },
  {
   "cell_type": "code",
   "execution_count": 380,
   "metadata": {},
   "outputs": [],
   "source": [
    "def estDiv(d_arr,sm_arr):\n",
    "    years = np.array(range(int(np.max(d_arr)+2)))\n",
    "    est_d = np.zeros(len(years)-1)\n",
    "    est_m = np.zeros(len(years)-1)\n",
    "    rate_d = np.zeros(len(years)-1)\n",
    "    known_d = np.zeros(len(years)-1)\n",
    "    d_error = np.zeros(len(years)-1)\n",
    "    for i in range(len(years)-1):\n",
    "        dm_tot = len(np.where(d_arr >= years[i])[0]) + len(np.where(sm_arr >= years[i])[0])\n",
    "        known_d[i] = len(np.where((d_arr >= years[i]) & (d_arr < years[i+1]))[0])\n",
    "        dm_ukn = len(np.where((sm_arr >= years[i]) & (sm_arr < years[i+1]))[0])\n",
    "        if i > 0:\n",
    "            dm_ukn += est_m[i-1]\n",
    "            dm_tot += est_m[i-1]\n",
    "        \n",
    "        rate_d[i] = float(known_d[i]) / (dm_tot - dm_ukn)\n",
    "        est_d[i] = rate_d[i] * dm_ukn\n",
    "        est_m[i] = (1.0 - rate_d[i]) * dm_ukn\n",
    "        d_error[i] = known_d[i]**2*dm_tot**2*dm_ukn/(dm_tot - dm_ukn)**4 + dm_ukn**2*known_d[i]/(dm_tot - dm_ukn)**2\n",
    "        d_error[i] += dm_ukn**2*known_d[i]**2*dm_tot/(dm_tot - dm_ukn)**4\n",
    "\n",
    "    d_error = np.sqrt(d_error)\n",
    "    cumu_d = np.array([np.sum(known_d[:i+1])+np.sum(est_d[:i+1]) for i in range(len(est_d))])\n",
    "    cumu_e = np.array([math.sqrt(np.sum(d_error[:i+1]**2) + np.sum(known_d[:i+1])) for i in range(len(est_d))])\n",
    "    return est_d,rate_d,years[1:],cumu_d,d_error,cumu_e\n",
    "est_d,rate_d,yrs,cumud,d_error,cumue = estDiv(mlen,sflen)"
   ]
  },
  {
   "cell_type": "code",
   "execution_count": 381,
   "metadata": {},
   "outputs": [
    {
     "data": {
      "text/plain": [
       "(0.57740991756482485, 0.85858633286985098)"
      ]
     },
     "execution_count": 381,
     "metadata": {},
     "output_type": "execute_result"
    }
   ],
   "source": [
    "1.0 - np.prod(1.0-rate_d),cumue[-1]/(len(mlen)+len(sflen))"
   ]
  },
  {
   "cell_type": "code",
   "execution_count": 398,
   "metadata": {},
   "outputs": [
    {
     "data": {
      "text/plain": [
       "[<matplotlib.lines.Line2D at 0x150d54b50>]"
      ]
     },
     "execution_count": 398,
     "metadata": {},
     "output_type": "execute_result"
    },
    {
     "data": {
      "image/png": "[encoded data removed]",
      "text/plain": [
       "<matplotlib.figure.Figure at 0x150a95510>"
      ]
     },
     "metadata": {
      "needs_background": "light"
     },
     "output_type": "display_data"
    }
   ],
   "source": [
    "plt.plot(yrs,rate_d)"
   ]
  },
  {
   "cell_type": "code",
   "execution_count": 395,
   "metadata": {},
   "outputs": [
    {
     "data": {
      "text/plain": [
       "[<matplotlib.lines.Line2D at 0x150a322d0>]"
      ]
     },
     "execution_count": 395,
     "metadata": {},
     "output_type": "execute_result"
    },
    {
     "data": {
      "image/png": "[encoded data removed]",
      "text/plain": [
       "<matplotlib.figure.Figure at 0x150960650>"
      ]
     },
     "metadata": {
      "needs_background": "light"
     },
     "output_type": "display_data"
    }
   ],
   "source": [
    "plt.plot(yrs[:21],rate_d[:21])"
   ]
  },
  {
   "cell_type": "markdown",
   "metadata": {},
   "source": [
    "Maybe there is some wisdom in the 7 year itch instead. As previously observed, the largest number of divorces happen within the 4th year of marriage, the 7th year of marriage has the largest yearly percentage of divorces (ie the fraction of those still married at the beginning of year N will divorce by the end of year N)"
   ]
  },
  {
   "cell_type": "code",
   "execution_count": 401,
   "metadata": {},
   "outputs": [
    {
     "data": {
      "text/plain": [
       "(0.45031595027244609, 0.012912564315836041)"
      ]
     },
     "execution_count": 401,
     "metadata": {},
     "output_type": "execute_result"
    }
   ],
   "source": [
    "1.0 - np.prod(1.0-rate_d[:21]),cumue[20]/(len(mlen)+len(sflen))"
   ]
  },
  {
   "cell_type": "code",
   "execution_count": 397,
   "metadata": {},
   "outputs": [
    {
     "data": {
      "text/plain": [
       "(0, 0.5)"
      ]
     },
     "execution_count": 397,
     "metadata": {},
     "output_type": "execute_result"
    },
    {
     "data": {
      "image/png": "[encoded data removed]",
      "text/plain": [
       "<matplotlib.figure.Figure at 0x150a87a50>"
      ]
     },
     "metadata": {
      "needs_background": "light"
     },
     "output_type": "display_data"
    }
   ],
   "source": [
    "plt.errorbar(yrs,cumud/(len(mlen)+len(sflen)),yerr=cumue/(len(mlen)+len(sflen)))\n",
    "plt.xlim([0,22])\n",
    "plt.ylim([0,0.5])"
   ]
  },
  {
   "cell_type": "code",
   "execution_count": null,
   "metadata": {},
   "outputs": [],
   "source": []
  }
 ],
 "metadata": {
  "kernelspec": {
   "display_name": "Python 2",
   "language": "python",
   "name": "python2"
  },
  "language_info": {
   "codemirror_mode": {
    "name": "ipython",
    "version": 2
   },
   "file_extension": ".py",
   "mimetype": "text/x-python",
   "name": "python",
   "nbconvert_exporter": "python",
   "pygments_lexer": "ipython2",
   "version": "2.7.15"
  }
 },
 "nbformat": 4,
 "nbformat_minor": 2
}
